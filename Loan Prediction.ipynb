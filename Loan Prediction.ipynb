{
 "cells": [
  {
   "cell_type": "markdown",
   "id": "ea2c611b",
   "metadata": {},
   "source": [
    "# Loan Prediction"
   ]
  },
  {
   "cell_type": "code",
   "execution_count": 1,
   "id": "ee16eb94",
   "metadata": {},
   "outputs": [],
   "source": [
    "%matplotlib inline\n",
    "import numpy as np\n",
    "import pandas as pd\n",
    "from scipy import stats\n",
    "import matplotlib.pyplot as plt\n",
    "import seaborn as sns\n",
    "from sklearn.model_selection import train_test_split\n",
    "# Importing Classifier Modules\n",
    "from sklearn.linear_model import LogisticRegression\n",
    "from sklearn.svm import SVC, LinearSVC\n",
    "from sklearn.neighbors import KNeighborsClassifier\n",
    "from sklearn.tree import DecisionTreeClassifier\n",
    "from sklearn.ensemble import RandomForestClassifier\n",
    "from sklearn.naive_bayes import GaussianNB\n",
    "from sklearn.linear_model import Perceptron\n",
    "from sklearn.linear_model import SGDClassifier\n",
    "from sklearn.ensemble import GradientBoostingClassifier\n",
    "from sklearn import preprocessing\n",
    "from sklearn.model_selection import KFold\n",
    "from sklearn.model_selection import cross_val_score\n",
    "from sklearn.linear_model import LinearRegression\n",
    "from sklearn.tree import DecisionTreeRegressor\n",
    "from sklearn.preprocessing import StandardScaler\n",
    "from sklearn.ensemble import RandomForestRegressor\n",
    "from sklearn.linear_model import Lasso\n",
    "from sklearn.linear_model import Ridge\n",
    "from sklearn import tree"
   ]
  },
  {
   "cell_type": "code",
   "execution_count": 2,
   "id": "6d6f99c2",
   "metadata": {},
   "outputs": [
    {
     "name": "stderr",
     "output_type": "stream",
     "text": [
      "C:\\Users\\hnb04\\anaconda3\\lib\\site-packages\\IPython\\core\\interactiveshell.py:3165: DtypeWarning: Columns (15) have mixed types.Specify dtype option on import or set low_memory=False.\n",
      "  has_raised = await self.run_ast_nodes(code_ast.body, cell_name,\n"
     ]
    }
   ],
   "source": [
    "# load train dataset\n",
    "df = pd.read_csv(\"Data for Cleaning & Modeling.csv\")"
   ]
  },
  {
   "cell_type": "code",
   "execution_count": 3,
   "id": "9152e425",
   "metadata": {},
   "outputs": [],
   "source": [
    "# load test dataset\n",
    "df_test = pd.read_csv (\"Holdout for Testing.csv\")"
   ]
  },
  {
   "cell_type": "markdown",
   "id": "81ca4fcc",
   "metadata": {},
   "source": [
    "## Data Processing "
   ]
  },
  {
   "cell_type": "code",
   "execution_count": 4,
   "id": "060da181",
   "metadata": {},
   "outputs": [],
   "source": [
    "# rename training dataset columns \n",
    "df.columns = [\"interest_rate\", \"unique_id_loan\", \"unquie_id_borrower\", \"loan_amount_requested\", \"loan_amount_funded\", \"inverstor_funded_loan\", \"number_payments\", \"loan_grade\", \"loan_subgrade\", \"employer/job_title\", \"years_employed\", \"home_owenrship_status\", \"annual_income_borrower\", \"income_verification\", \"date_loan_issued\", \"reason\", \"loan_category\", \"loan_title\", \"zip_code\", \"state_borrower\", \"debt_to_income\", \"30+_pastdue_times\", \"date_earliest_reported_credit_line\", \"num_inqueries_creditor\", \"months_last_delinquency\", \"month_last_public_record\", \"num_open_credit_lines\", \"num_derogatory_records\", \"credit_revolving_balance\", \"revolving_line_utilization_rate\", \"total_credit_lines\", \"initial_loan_status\" ]"
   ]
  },
  {
   "cell_type": "code",
   "execution_count": 5,
   "id": "63a4fa2f",
   "metadata": {},
   "outputs": [],
   "source": [
    "# rename testing dataset columns \n",
    "df_test.columns = [\"interest_rate\", \"unique_id_loan\", \"unquie_id_borrower\", \"loan_amount_requested\", \"loan_amount_funded\", \"inverstor_funded_loan\", \"number_payments\", \"loan_grade\", \"loan_subgrade\", \"employer/job_title\", \"years_employed\", \"home_owenrship_status\", \"annual_income_borrower\", \"income_verification\", \"date_loan_issued\", \"reason\", \"loan_category\", \"loan_title\", \"zip_code\", \"state_borrower\", \"debt_to_income\", \"30+_pastdue_times\", \"date_earliest_reported_credit_line\", \"num_inqueries_creditor\", \"months_last_delinquency\", \"month_last_public_record\", \"num_open_credit_lines\", \"num_derogatory_records\", \"credit_revolving_balance\", \"revolving_line_utilization_rate\", \"total_credit_lines\", \"initial_loan_status\" ]"
   ]
  },
  {
   "cell_type": "code",
   "execution_count": 6,
   "id": "2711bbe0",
   "metadata": {},
   "outputs": [
    {
     "name": "stdout",
     "output_type": "stream",
     "text": [
      "<class 'pandas.core.frame.DataFrame'>\n",
      "RangeIndex: 400000 entries, 0 to 399999\n",
      "Data columns (total 32 columns):\n",
      " #   Column                              Non-Null Count   Dtype  \n",
      "---  ------                              --------------   -----  \n",
      " 0   interest_rate                       338990 non-null  object \n",
      " 1   unique_id_loan                      399999 non-null  float64\n",
      " 2   unquie_id_borrower                  399999 non-null  float64\n",
      " 3   loan_amount_requested               399999 non-null  object \n",
      " 4   loan_amount_funded                  399999 non-null  object \n",
      " 5   inverstor_funded_loan               399999 non-null  object \n",
      " 6   number_payments                     399999 non-null  object \n",
      " 7   loan_grade                          338730 non-null  object \n",
      " 8   loan_subgrade                       338730 non-null  object \n",
      " 9   employer/job_title                  376014 non-null  object \n",
      " 10  years_employed                      382462 non-null  object \n",
      " 11  home_owenrship_status               338639 non-null  object \n",
      " 12  annual_income_borrower              338972 non-null  float64\n",
      " 13  income_verification                 399999 non-null  object \n",
      " 14  date_loan_issued                    399999 non-null  object \n",
      " 15  reason                              123560 non-null  object \n",
      " 16  loan_category                       399999 non-null  object \n",
      " 17  loan_title                          399981 non-null  object \n",
      " 18  zip_code                            399999 non-null  object \n",
      " 19  state_borrower                      399999 non-null  object \n",
      " 20  debt_to_income                      399999 non-null  float64\n",
      " 21  30+_pastdue_times                   399999 non-null  float64\n",
      " 22  date_earliest_reported_credit_line  399999 non-null  object \n",
      " 23  num_inqueries_creditor              399999 non-null  float64\n",
      " 24  months_last_delinquency             181198 non-null  float64\n",
      " 25  month_last_public_record            51155 non-null   float64\n",
      " 26  num_open_credit_lines               399999 non-null  float64\n",
      " 27  num_derogatory_records              399999 non-null  float64\n",
      " 28  credit_revolving_balance            399999 non-null  float64\n",
      " 29  revolving_line_utilization_rate     399733 non-null  object \n",
      " 30  total_credit_lines                  399999 non-null  float64\n",
      " 31  initial_loan_status                 399999 non-null  object \n",
      "dtypes: float64(12), object(20)\n",
      "memory usage: 97.7+ MB\n"
     ]
    }
   ],
   "source": [
    "df.info()"
   ]
  },
  {
   "cell_type": "code",
   "execution_count": 7,
   "id": "2e382a52",
   "metadata": {},
   "outputs": [
    {
     "name": "stdout",
     "output_type": "stream",
     "text": [
      "<class 'pandas.core.frame.DataFrame'>\n",
      "RangeIndex: 80000 entries, 0 to 79999\n",
      "Data columns (total 32 columns):\n",
      " #   Column                              Non-Null Count  Dtype  \n",
      "---  ------                              --------------  -----  \n",
      " 0   interest_rate                       0 non-null      float64\n",
      " 1   unique_id_loan                      80000 non-null  int64  \n",
      " 2   unquie_id_borrower                  80000 non-null  int64  \n",
      " 3   loan_amount_requested               80000 non-null  object \n",
      " 4   loan_amount_funded                  80000 non-null  object \n",
      " 5   inverstor_funded_loan               80000 non-null  object \n",
      " 6   number_payments                     80000 non-null  object \n",
      " 7   loan_grade                          80000 non-null  object \n",
      " 8   loan_subgrade                       80000 non-null  object \n",
      " 9   employer/job_title                  75606 non-null  object \n",
      " 10  years_employed                      75618 non-null  object \n",
      " 11  home_owenrship_status               80000 non-null  object \n",
      " 12  annual_income_borrower              80000 non-null  float64\n",
      " 13  income_verification                 80000 non-null  object \n",
      " 14  date_loan_issued                    80000 non-null  object \n",
      " 15  reason                              15 non-null     object \n",
      " 16  loan_category                       80000 non-null  object \n",
      " 17  loan_title                          80000 non-null  object \n",
      " 18  zip_code                            80000 non-null  object \n",
      " 19  state_borrower                      80000 non-null  object \n",
      " 20  debt_to_income                      80000 non-null  float64\n",
      " 21  30+_pastdue_times                   80000 non-null  int64  \n",
      " 22  date_earliest_reported_credit_line  80000 non-null  object \n",
      " 23  num_inqueries_creditor              80000 non-null  int64  \n",
      " 24  months_last_delinquency             41296 non-null  float64\n",
      " 25  month_last_public_record            13839 non-null  float64\n",
      " 26  num_open_credit_lines               80000 non-null  int64  \n",
      " 27  num_derogatory_records              80000 non-null  int64  \n",
      " 28  credit_revolving_balance            80000 non-null  int64  \n",
      " 29  revolving_line_utilization_rate     79970 non-null  object \n",
      " 30  total_credit_lines                  80000 non-null  int64  \n",
      " 31  initial_loan_status                 80000 non-null  object \n",
      "dtypes: float64(5), int64(8), object(19)\n",
      "memory usage: 19.5+ MB\n"
     ]
    }
   ],
   "source": [
    "df_test.info()"
   ]
  },
  {
   "cell_type": "markdown",
   "id": "0dece5bb",
   "metadata": {},
   "source": [
    "### Convert data types"
   ]
  },
  {
   "cell_type": "markdown",
   "id": "8743025b",
   "metadata": {},
   "source": [
    "#### 1. Convert columns interest_rate and revolving_line_utilization_rate ffrom object to number"
   ]
  },
  {
   "cell_type": "code",
   "execution_count": 8,
   "id": "a5ee889b",
   "metadata": {},
   "outputs": [],
   "source": [
    "#train\n",
    "df['interest_rate'] = df['interest_rate'].str.replace(\"%\", \"\")\n",
    "df['revolving_line_utilization_rate'] = df['revolving_line_utilization_rate'].str.replace(\"%\", \"\")\n",
    "df['interest_rate'] = df['interest_rate'].apply(lambda x:float(x)/100)\n",
    "df['revolving_line_utilization_rate'] = df['revolving_line_utilization_rate'].apply(lambda x:float(x)/100)"
   ]
  },
  {
   "cell_type": "code",
   "execution_count": 9,
   "id": "b4cd8064",
   "metadata": {},
   "outputs": [],
   "source": [
    "#test\n",
    "df_test['revolving_line_utilization_rate'] = df_test['revolving_line_utilization_rate'].str.replace(\"%\", \"\")\n",
    "df_test['revolving_line_utilization_rate'] = df_test['revolving_line_utilization_rate'].apply(lambda x:float(x)/100)"
   ]
  },
  {
   "cell_type": "markdown",
   "id": "d3efd8ea",
   "metadata": {},
   "source": [
    "#### 2. Convert number_payments to number"
   ]
  },
  {
   "cell_type": "code",
   "execution_count": 10,
   "id": "d1abd09a",
   "metadata": {},
   "outputs": [
    {
     "data": {
      "text/plain": [
       " 36    292369\n",
       " 60    107630\n",
       "Name: number_payments, dtype: int64"
      ]
     },
     "execution_count": 10,
     "metadata": {},
     "output_type": "execute_result"
    }
   ],
   "source": [
    "# train\n",
    "df['number_payments'] = df['number_payments'].str.replace(' months','')\n",
    "df['number_payments'].value_counts()"
   ]
  },
  {
   "cell_type": "code",
   "execution_count": 11,
   "id": "cb3bfe67",
   "metadata": {},
   "outputs": [
    {
     "data": {
      "text/plain": [
       " 36    53630\n",
       " 60    26370\n",
       "Name: number_payments, dtype: int64"
      ]
     },
     "execution_count": 11,
     "metadata": {},
     "output_type": "execute_result"
    }
   ],
   "source": [
    "# test\n",
    "df_test['number_payments'] = df_test['number_payments'].str.replace(' months','')\n",
    "df_test['number_payments'].value_counts()"
   ]
  },
  {
   "cell_type": "markdown",
   "id": "1dc2c8a1",
   "metadata": {},
   "source": [
    "#### 3. Convert loan_amount_requested, loan_amount_funded, investor_funded_loan to numbers"
   ]
  },
  {
   "cell_type": "code",
   "execution_count": 12,
   "id": "66954120",
   "metadata": {},
   "outputs": [
    {
     "name": "stderr",
     "output_type": "stream",
     "text": [
      "<ipython-input-12-2a7f307ef667>:2: FutureWarning: The default value of regex will change from True to False in a future version. In addition, single character regular expressions will*not* be treated as literal strings when regex=True.\n",
      "  df['loan_amount_requested'] = df['loan_amount_requested'].str.replace(\"$\", \"\")\n",
      "<ipython-input-12-2a7f307ef667>:4: FutureWarning: The default value of regex will change from True to False in a future version. In addition, single character regular expressions will*not* be treated as literal strings when regex=True.\n",
      "  df['loan_amount_funded'] = df['loan_amount_funded'].str.replace(\"$\", \"\")\n",
      "<ipython-input-12-2a7f307ef667>:6: FutureWarning: The default value of regex will change from True to False in a future version. In addition, single character regular expressions will*not* be treated as literal strings when regex=True.\n",
      "  df['inverstor_funded_loan'] = df['inverstor_funded_loan'].str.replace(\"$\", \"\")\n"
     ]
    }
   ],
   "source": [
    "#train\n",
    "df['loan_amount_requested'] = df['loan_amount_requested'].str.replace(\"$\", \"\")\n",
    "df['loan_amount_requested'] = df['loan_amount_requested'].str.replace(\",\", \"\")\n",
    "df['loan_amount_funded'] = df['loan_amount_funded'].str.replace(\"$\", \"\")\n",
    "df['loan_amount_funded'] = df['loan_amount_funded'].str.replace(\",\", \"\")\n",
    "df['inverstor_funded_loan'] = df['inverstor_funded_loan'].str.replace(\"$\", \"\")\n",
    "df['inverstor_funded_loan'] = df['inverstor_funded_loan'].str.replace(\",\", \"\")\n",
    "\n",
    "df['loan_amount_requested'] = df['loan_amount_requested'].apply(lambda x:float(x))\n",
    "df['loan_amount_funded'] = df['loan_amount_requested'].apply(lambda x:float(x))\n",
    "df['inverstor_funded_loan'] = df['loan_amount_requested'].apply(lambda x:float(x))"
   ]
  },
  {
   "cell_type": "code",
   "execution_count": 13,
   "id": "a231dbfa",
   "metadata": {},
   "outputs": [
    {
     "name": "stderr",
     "output_type": "stream",
     "text": [
      "<ipython-input-13-923d7f87ac64>:2: FutureWarning: The default value of regex will change from True to False in a future version. In addition, single character regular expressions will*not* be treated as literal strings when regex=True.\n",
      "  df_test['loan_amount_requested'] = df_test['loan_amount_requested'].str.replace(\"$\", \"\")\n",
      "<ipython-input-13-923d7f87ac64>:4: FutureWarning: The default value of regex will change from True to False in a future version. In addition, single character regular expressions will*not* be treated as literal strings when regex=True.\n",
      "  df_test['loan_amount_funded'] = df_test['loan_amount_funded'].str.replace(\"$\", \"\")\n",
      "<ipython-input-13-923d7f87ac64>:6: FutureWarning: The default value of regex will change from True to False in a future version. In addition, single character regular expressions will*not* be treated as literal strings when regex=True.\n",
      "  df_test['inverstor_funded_loan'] = df_test['inverstor_funded_loan'].str.replace(\"$\", \"\")\n"
     ]
    }
   ],
   "source": [
    "#test\n",
    "df_test['loan_amount_requested'] = df_test['loan_amount_requested'].str.replace(\"$\", \"\")\n",
    "df_test['loan_amount_requested'] = df_test['loan_amount_requested'].str.replace(\",\", \"\")\n",
    "df_test['loan_amount_funded'] = df_test['loan_amount_funded'].str.replace(\"$\", \"\")\n",
    "df_test['loan_amount_funded'] = df_test['loan_amount_funded'].str.replace(\",\", \"\")\n",
    "df_test['inverstor_funded_loan'] = df_test['inverstor_funded_loan'].str.replace(\"$\", \"\")\n",
    "df_test['inverstor_funded_loan'] = df_test['inverstor_funded_loan'].str.replace(\",\", \"\")\n",
    "\n",
    "df_test['loan_amount_requested'] = df_test['loan_amount_requested'].apply(lambda x:float(x))\n",
    "df_test['loan_amount_funded'] = df_test['loan_amount_requested'].apply(lambda x:float(x))\n",
    "df_test['inverstor_funded_loan'] = df_test['loan_amount_requested'].apply(lambda x:float(x))"
   ]
  },
  {
   "cell_type": "markdown",
   "id": "6c66fa8c",
   "metadata": {},
   "source": [
    "### Missing values"
   ]
  },
  {
   "cell_type": "markdown",
   "id": "7ed99007",
   "metadata": {},
   "source": [
    "##### 1. check missing values in train and test by each column"
   ]
  },
  {
   "cell_type": "code",
   "execution_count": 14,
   "id": "c098e593",
   "metadata": {},
   "outputs": [
    {
     "data": {
      "text/plain": [
       "interest_rate                         0.152525\n",
       "unique_id_loan                        0.000003\n",
       "unquie_id_borrower                    0.000003\n",
       "loan_amount_requested                 0.000003\n",
       "loan_amount_funded                    0.000003\n",
       "inverstor_funded_loan                 0.000003\n",
       "number_payments                       0.000003\n",
       "loan_grade                            0.153175\n",
       "loan_subgrade                         0.153175\n",
       "employer/job_title                    0.059965\n",
       "years_employed                        0.043845\n",
       "home_owenrship_status                 0.153402\n",
       "annual_income_borrower                0.152570\n",
       "income_verification                   0.000003\n",
       "date_loan_issued                      0.000003\n",
       "reason                                0.691100\n",
       "loan_category                         0.000003\n",
       "loan_title                            0.000048\n",
       "zip_code                              0.000003\n",
       "state_borrower                        0.000003\n",
       "debt_to_income                        0.000003\n",
       "30+_pastdue_times                     0.000003\n",
       "date_earliest_reported_credit_line    0.000003\n",
       "num_inqueries_creditor                0.000003\n",
       "months_last_delinquency               0.547005\n",
       "month_last_public_record              0.872112\n",
       "num_open_credit_lines                 0.000003\n",
       "num_derogatory_records                0.000003\n",
       "credit_revolving_balance              0.000003\n",
       "revolving_line_utilization_rate       0.000668\n",
       "total_credit_lines                    0.000003\n",
       "initial_loan_status                   0.000003\n",
       "dtype: float64"
      ]
     },
     "execution_count": 14,
     "metadata": {},
     "output_type": "execute_result"
    }
   ],
   "source": [
    "# percentage of missing values by column in train data\n",
    "df.isna().sum()/len(df)"
   ]
  },
  {
   "cell_type": "code",
   "execution_count": 15,
   "id": "170048bb",
   "metadata": {},
   "outputs": [
    {
     "data": {
      "text/plain": [
       "interest_rate                         1.000000\n",
       "unique_id_loan                        0.000000\n",
       "unquie_id_borrower                    0.000000\n",
       "loan_amount_requested                 0.000000\n",
       "loan_amount_funded                    0.000000\n",
       "inverstor_funded_loan                 0.000000\n",
       "number_payments                       0.000000\n",
       "loan_grade                            0.000000\n",
       "loan_subgrade                         0.000000\n",
       "employer/job_title                    0.054925\n",
       "years_employed                        0.054775\n",
       "home_owenrship_status                 0.000000\n",
       "annual_income_borrower                0.000000\n",
       "income_verification                   0.000000\n",
       "date_loan_issued                      0.000000\n",
       "reason                                0.999812\n",
       "loan_category                         0.000000\n",
       "loan_title                            0.000000\n",
       "zip_code                              0.000000\n",
       "state_borrower                        0.000000\n",
       "debt_to_income                        0.000000\n",
       "30+_pastdue_times                     0.000000\n",
       "date_earliest_reported_credit_line    0.000000\n",
       "num_inqueries_creditor                0.000000\n",
       "months_last_delinquency               0.483800\n",
       "month_last_public_record              0.827013\n",
       "num_open_credit_lines                 0.000000\n",
       "num_derogatory_records                0.000000\n",
       "credit_revolving_balance              0.000000\n",
       "revolving_line_utilization_rate       0.000375\n",
       "total_credit_lines                    0.000000\n",
       "initial_loan_status                   0.000000\n",
       "dtype: float64"
      ]
     },
     "execution_count": 15,
     "metadata": {},
     "output_type": "execute_result"
    }
   ],
   "source": [
    "# percentage of missing values by column in train data\n",
    "df_test.isna().sum()/len(df_test)"
   ]
  },
  {
   "cell_type": "markdown",
   "id": "1f4725ac",
   "metadata": {},
   "source": [
    "##### 2. Handle missing values"
   ]
  },
  {
   "cell_type": "markdown",
   "id": "73b91fdd",
   "metadata": {},
   "source": [
    "a. remove missing values in interest_rate columns in train dataset"
   ]
  },
  {
   "cell_type": "code",
   "execution_count": 16,
   "id": "96a82cbb",
   "metadata": {},
   "outputs": [],
   "source": [
    "# train\n",
    "df = df.dropna(axis = 0, subset = [\"interest_rate\"])"
   ]
  },
  {
   "cell_type": "markdown",
   "id": "f5ec35bf",
   "metadata": {},
   "source": [
    "b. drop interest_rate column in testing dataset"
   ]
  },
  {
   "cell_type": "code",
   "execution_count": 17,
   "id": "1694a79f",
   "metadata": {},
   "outputs": [],
   "source": [
    "# test\n",
    "df_test = df_test.drop(\"interest_rate\", 1)"
   ]
  },
  {
   "cell_type": "markdown",
   "id": "641b0e62",
   "metadata": {},
   "source": [
    "c. drop month_last_public_record in both train and test datasets"
   ]
  },
  {
   "cell_type": "code",
   "execution_count": 18,
   "id": "323fffc7",
   "metadata": {},
   "outputs": [],
   "source": [
    "# train\n",
    "df = df.drop(\"month_last_public_record\", 1)\n",
    "# test\n",
    "df_test = df_test.drop(\"month_last_public_record\", 1)"
   ]
  },
  {
   "cell_type": "markdown",
   "id": "52511c31",
   "metadata": {},
   "source": [
    "d. drop reason column in both train and test datasets"
   ]
  },
  {
   "cell_type": "code",
   "execution_count": 19,
   "id": "b1e95ae9",
   "metadata": {},
   "outputs": [],
   "source": [
    "# train\n",
    "df = df.drop(\"reason\", 1)\n",
    "# test\n",
    "df_test = df_test.drop(\"reason\", 1)"
   ]
  },
  {
   "cell_type": "markdown",
   "id": "c80eb986",
   "metadata": {},
   "source": [
    "e. drop months_last_delinquency in both datasets due to high missing percentages "
   ]
  },
  {
   "cell_type": "code",
   "execution_count": 20,
   "id": "5d82ba3a",
   "metadata": {},
   "outputs": [],
   "source": [
    "# train\n",
    "df = df.drop(\"months_last_delinquency\", 1)\n",
    "# test\n",
    "df_test = df_test.drop(\"months_last_delinquency\", 1)"
   ]
  },
  {
   "cell_type": "markdown",
   "id": "0dd82b0f",
   "metadata": {},
   "source": [
    "f. By comparing the loan_grade and loan_subgrade boxplots,I find the distribution two columns are repetitive. So, I decide to create \"unknwon\" category in loan_grade and drop loan_subgrade column in both train and test data."
   ]
  },
  {
   "cell_type": "code",
   "execution_count": 21,
   "id": "dc6e3047",
   "metadata": {},
   "outputs": [
    {
     "data": {
      "text/plain": [
       "[Text(0.5, 1.0, 'Loan_grade by interest_rate in train dataset')]"
      ]
     },
     "execution_count": 21,
     "metadata": {},
     "output_type": "execute_result"
    },
    {
     "data": {
      "image/png": "[encoded data removed]",
      "text/plain": [
       "<Figure size 864x504 with 1 Axes>"
      ]
     },
     "metadata": {
      "needs_background": "light"
     },
     "output_type": "display_data"
    }
   ],
   "source": [
    "# Plotting loan_grade \n",
    "plt.figure(figsize=(12, 7))\n",
    "sns.boxplot(x='loan_grade',y='interest_rate',data=df).set(title='Loan_grade by interest_rate in train dataset')"
   ]
  },
  {
   "cell_type": "code",
   "execution_count": 22,
   "id": "71e6c72e",
   "metadata": {},
   "outputs": [
    {
     "data": {
      "text/plain": [
       "[Text(0.5, 1.0, 'Loan_subgrade by interest_rate in train dataset')]"
      ]
     },
     "execution_count": 22,
     "metadata": {},
     "output_type": "execute_result"
    },
    {
     "data": {
      "image/png": "[encoded data removed]",
      "text/plain": [
       "<Figure size 864x504 with 1 Axes>"
      ]
     },
     "metadata": {
      "needs_background": "light"
     },
     "output_type": "display_data"
    }
   ],
   "source": [
    "# Plotting loan_grade \n",
    "plt.figure(figsize=(12, 7))\n",
    "sns.boxplot(x='loan_subgrade',y='interest_rate',data=df).set(title='Loan_subgrade by interest_rate in train dataset')"
   ]
  },
  {
   "cell_type": "code",
   "execution_count": 23,
   "id": "db1fb96b",
   "metadata": {},
   "outputs": [],
   "source": [
    "# recategorize loan grade in train \n",
    "df.loan_grade = df.loan_grade.fillna(\"Unknown\")\n",
    "\n",
    "# drop loan_subgrade column in train\n",
    "df = df.drop(\"loan_subgrade\", 1)"
   ]
  },
  {
   "cell_type": "code",
   "execution_count": 24,
   "id": "6fbfe055",
   "metadata": {},
   "outputs": [],
   "source": [
    "# drop loan_subgrade column in test\n",
    "df_test = df_test.drop(\"loan_subgrade\", 1)"
   ]
  },
  {
   "cell_type": "code",
   "execution_count": 25,
   "id": "06c0a0b8",
   "metadata": {},
   "outputs": [
    {
     "data": {
      "text/plain": [
       "B          86121\n",
       "C          76446\n",
       "Unknown    51867\n",
       "D          46984\n",
       "A          45525\n",
       "E          21628\n",
       "F           8395\n",
       "G           2024\n",
       "Name: loan_grade, dtype: int64"
      ]
     },
     "execution_count": 25,
     "metadata": {},
     "output_type": "execute_result"
    }
   ],
   "source": [
    "df['loan_grade'].value_counts()"
   ]
  },
  {
   "cell_type": "markdown",
   "id": "0894f39d",
   "metadata": {},
   "source": [
    "g. Impute missing values in employer/job_title with \"Uknown\" Category"
   ]
  },
  {
   "cell_type": "code",
   "execution_count": 26,
   "id": "3bb73eb5",
   "metadata": {},
   "outputs": [],
   "source": [
    "# train\n",
    "df['employer/job_title'] = df['employer/job_title'].fillna('Unknown')"
   ]
  },
  {
   "cell_type": "code",
   "execution_count": 27,
   "id": "5adacfb6",
   "metadata": {},
   "outputs": [],
   "source": [
    "# test\n",
    "df_test['employer/job_title'] = df_test['employer/job_title'].fillna('Unknown')"
   ]
  },
  {
   "cell_type": "markdown",
   "id": "2795bfec",
   "metadata": {},
   "source": [
    "h. Convert column \"years_employed\" to number, and impute missing values with most common year number, which is 10. "
   ]
  },
  {
   "cell_type": "code",
   "execution_count": 28,
   "id": "ec567cb1",
   "metadata": {},
   "outputs": [
    {
     "data": {
      "text/plain": [
       "10+ years    108491\n",
       "2 years       30117\n",
       "3 years       26670\n",
       "< 1 year      26003\n",
       "5 years       23072\n",
       "1 year        21432\n",
       "4 years       20259\n",
       "6 years       19601\n",
       "7 years       19445\n",
       "8 years       16212\n",
       "9 years       12893\n",
       "Name: years_employed, dtype: int64"
      ]
     },
     "execution_count": 28,
     "metadata": {},
     "output_type": "execute_result"
    }
   ],
   "source": [
    "# train\n",
    "df[\"years_employed\"].value_counts()"
   ]
  },
  {
   "cell_type": "code",
   "execution_count": 29,
   "id": "00649605",
   "metadata": {},
   "outputs": [
    {
     "data": {
      "text/plain": [
       "10+ years    26723\n",
       "2 years       7220\n",
       "< 1 year      6459\n",
       "3 years       6441\n",
       "1 year        5094\n",
       "4 years       4603\n",
       "5 years       4583\n",
       "7 years       3978\n",
       "8 years       3970\n",
       "6 years       3385\n",
       "9 years       3162\n",
       "Name: years_employed, dtype: int64"
      ]
     },
     "execution_count": 29,
     "metadata": {},
     "output_type": "execute_result"
    }
   ],
   "source": [
    "# test\n",
    "df_test[\"years_employed\"].value_counts()"
   ]
  },
  {
   "cell_type": "code",
   "execution_count": 30,
   "id": "4b928088",
   "metadata": {},
   "outputs": [
    {
     "data": {
      "text/plain": [
       "10    123286\n",
       "2      30117\n",
       "3      26670\n",
       "0      26003\n",
       "5      23072\n",
       "1      21432\n",
       "4      20259\n",
       "6      19601\n",
       "7      19445\n",
       "8      16212\n",
       "9      12893\n",
       "Name: years_employed, dtype: int64"
      ]
     },
     "execution_count": 30,
     "metadata": {},
     "output_type": "execute_result"
    }
   ],
   "source": [
    "# train\n",
    "# Convert column \"years_employed\" to number\n",
    "df[\"years_employed\"] = df[\"years_employed\"].str.replace('< 1 year','0')\n",
    "df[\"years_employed\"] = df[\"years_employed\"].str.replace('1 year','1')\n",
    "df[\"years_employed\"] = df[\"years_employed\"].str.replace('2 years','2')\n",
    "df[\"years_employed\"] = df[\"years_employed\"].str.replace('3 years','3')\n",
    "df[\"years_employed\"] = df[\"years_employed\"].str.replace('4 years','4')\n",
    "df[\"years_employed\"] = df[\"years_employed\"].str.replace('5 years','5')\n",
    "df[\"years_employed\"] = df[\"years_employed\"].str.replace('6 years','6')\n",
    "df[\"years_employed\"] = df[\"years_employed\"].str.replace('7 years','7')\n",
    "df[\"years_employed\"] = df[\"years_employed\"].str.replace('8 years','8')\n",
    "df[\"years_employed\"] = df[\"years_employed\"].str.replace('9 years','9')\n",
    "df[\"years_employed\"] = df[\"years_employed\"].str.strip('+ years')\n",
    "# impute missing values\n",
    "df[\"years_employed\"] = df[\"years_employed\"].fillna('10')\n",
    "df[\"years_employed\"].value_counts()"
   ]
  },
  {
   "cell_type": "code",
   "execution_count": 31,
   "id": "db20f439",
   "metadata": {},
   "outputs": [
    {
     "data": {
      "text/plain": [
       "10    31105\n",
       "2      7220\n",
       "0      6459\n",
       "3      6441\n",
       "1      5094\n",
       "4      4603\n",
       "5      4583\n",
       "7      3978\n",
       "8      3970\n",
       "6      3385\n",
       "9      3162\n",
       "Name: years_employed, dtype: int64"
      ]
     },
     "execution_count": 31,
     "metadata": {},
     "output_type": "execute_result"
    }
   ],
   "source": [
    "# test\n",
    "# Convert column \"years_employed\" to number\n",
    "df_test[\"years_employed\"] = df_test[\"years_employed\"].str.replace('< 1 year','0')\n",
    "df_test[\"years_employed\"] = df_test[\"years_employed\"].str.replace('1 year','1')\n",
    "df_test[\"years_employed\"] = df_test[\"years_employed\"].str.replace('2 years','2')\n",
    "df_test[\"years_employed\"] = df_test[\"years_employed\"].str.replace('3 years','3')\n",
    "df_test[\"years_employed\"] = df_test[\"years_employed\"].str.replace('4 years','4')\n",
    "df_test[\"years_employed\"] = df_test[\"years_employed\"].str.replace('5 years','5')\n",
    "df_test[\"years_employed\"] = df_test[\"years_employed\"].str.replace('6 years','6')\n",
    "df_test[\"years_employed\"] = df_test[\"years_employed\"].str.replace('7 years','7')\n",
    "df_test[\"years_employed\"] = df_test[\"years_employed\"].str.replace('8 years','8')\n",
    "df_test[\"years_employed\"] = df_test[\"years_employed\"].str.replace('9 years','9')\n",
    "df_test[\"years_employed\"] = df_test[\"years_employed\"].str.strip('+ years')\n",
    "# impute missing values\n",
    "df_test[\"years_employed\"] = df_test[\"years_employed\"].fillna('10')\n",
    "df_test[\"years_employed\"].value_counts()"
   ]
  },
  {
   "cell_type": "markdown",
   "id": "fcbe0766",
   "metadata": {},
   "source": [
    "i Impute missing values in column home_owenrship_status with most frequent category, which is MORTGAGE."
   ]
  },
  {
   "cell_type": "code",
   "execution_count": 32,
   "id": "2d59fa0d",
   "metadata": {},
   "outputs": [
    {
     "data": {
      "text/plain": [
       "MORTGAGE    145958\n",
       "RENT        115958\n",
       "OWN          24976\n",
       "OTHER          107\n",
       "NONE            30\n",
       "ANY              1\n",
       "Name: home_owenrship_status, dtype: int64"
      ]
     },
     "execution_count": 32,
     "metadata": {},
     "output_type": "execute_result"
    }
   ],
   "source": [
    "df[\"home_owenrship_status\"].value_counts()"
   ]
  },
  {
   "cell_type": "code",
   "execution_count": 33,
   "id": "f3e1f8a0",
   "metadata": {},
   "outputs": [],
   "source": [
    "#train\n",
    "df['home_owenrship_status'].fillna('MORTGAGE',inplace=True)"
   ]
  },
  {
   "cell_type": "markdown",
   "id": "621d20c1",
   "metadata": {},
   "source": [
    "j. Impute missing values in revolving_line_utilization_rate, annual_income_borrower with interpolation"
   ]
  },
  {
   "cell_type": "code",
   "execution_count": 34,
   "id": "780eb132",
   "metadata": {},
   "outputs": [],
   "source": [
    "# train\n",
    "df['revolving_line_utilization_rate'] = df['revolving_line_utilization_rate'].interpolate()\n",
    "df['annual_income_borrower'] = df['annual_income_borrower'].interpolate()"
   ]
  },
  {
   "cell_type": "code",
   "execution_count": 35,
   "id": "f461374f",
   "metadata": {},
   "outputs": [],
   "source": [
    "# test\n",
    "df_test['revolving_line_utilization_rate'] = df_test['revolving_line_utilization_rate'].interpolate()"
   ]
  },
  {
   "cell_type": "markdown",
   "id": "be92551c",
   "metadata": {},
   "source": [
    "k. drop loan_title column in both training and test datasets "
   ]
  },
  {
   "cell_type": "code",
   "execution_count": 36,
   "id": "e4c20df2",
   "metadata": {},
   "outputs": [
    {
     "data": {
      "text/plain": [
       "Debt consolidation               105698\n",
       "Credit card refinancing           40499\n",
       "Debt Consolidation                13275\n",
       "Home improvement                   9888\n",
       "Other                              8188\n",
       "                                  ...  \n",
       "wisdom                                1\n",
       "excellent                             1\n",
       "RELEAF                                1\n",
       "Brian's Debt Consolidation            1\n",
       "Fast Track Debt Consolidation         1\n",
       "Name: loan_title, Length: 53617, dtype: int64"
      ]
     },
     "execution_count": 36,
     "metadata": {},
     "output_type": "execute_result"
    }
   ],
   "source": [
    "df[\"loan_title\"].value_counts()"
   ]
  },
  {
   "cell_type": "code",
   "execution_count": 37,
   "id": "9375ed52",
   "metadata": {},
   "outputs": [],
   "source": [
    "# train\n",
    "df = df.drop(\"loan_title\", 1)\n",
    "\n",
    "# test\n",
    "df_test = df_test.drop(\"loan_title\", 1)"
   ]
  },
  {
   "cell_type": "markdown",
   "id": "025fda23",
   "metadata": {},
   "source": [
    "l: select missing rows and remove them from training dataset"
   ]
  },
  {
   "cell_type": "code",
   "execution_count": 38,
   "id": "694ed467",
   "metadata": {},
   "outputs": [
    {
     "data": {
      "text/html": [
       "<div>\n",
       "<style scoped>\n",
       "    .dataframe tbody tr th:only-of-type {\n",
       "        vertical-align: middle;\n",
       "    }\n",
       "\n",
       "    .dataframe tbody tr th {\n",
       "        vertical-align: top;\n",
       "    }\n",
       "\n",
       "    .dataframe thead th {\n",
       "        text-align: right;\n",
       "    }\n",
       "</style>\n",
       "<table border=\"1\" class=\"dataframe\">\n",
       "  <thead>\n",
       "    <tr style=\"text-align: right;\">\n",
       "      <th></th>\n",
       "      <th>interest_rate</th>\n",
       "      <th>unique_id_loan</th>\n",
       "      <th>unquie_id_borrower</th>\n",
       "      <th>loan_amount_requested</th>\n",
       "      <th>loan_amount_funded</th>\n",
       "      <th>inverstor_funded_loan</th>\n",
       "      <th>number_payments</th>\n",
       "      <th>loan_grade</th>\n",
       "      <th>employer/job_title</th>\n",
       "      <th>years_employed</th>\n",
       "      <th>...</th>\n",
       "      <th>debt_to_income</th>\n",
       "      <th>30+_pastdue_times</th>\n",
       "      <th>date_earliest_reported_credit_line</th>\n",
       "      <th>num_inqueries_creditor</th>\n",
       "      <th>num_open_credit_lines</th>\n",
       "      <th>num_derogatory_records</th>\n",
       "      <th>credit_revolving_balance</th>\n",
       "      <th>revolving_line_utilization_rate</th>\n",
       "      <th>total_credit_lines</th>\n",
       "      <th>initial_loan_status</th>\n",
       "    </tr>\n",
       "  </thead>\n",
       "  <tbody>\n",
       "    <tr>\n",
       "      <th>364111</th>\n",
       "      <td>0.0769</td>\n",
       "      <td>NaN</td>\n",
       "      <td>NaN</td>\n",
       "      <td>NaN</td>\n",
       "      <td>NaN</td>\n",
       "      <td>NaN</td>\n",
       "      <td>NaN</td>\n",
       "      <td>Unknown</td>\n",
       "      <td>Unknown</td>\n",
       "      <td>10</td>\n",
       "      <td>...</td>\n",
       "      <td>NaN</td>\n",
       "      <td>NaN</td>\n",
       "      <td>NaN</td>\n",
       "      <td>NaN</td>\n",
       "      <td>NaN</td>\n",
       "      <td>NaN</td>\n",
       "      <td>NaN</td>\n",
       "      <td>0.5725</td>\n",
       "      <td>NaN</td>\n",
       "      <td>NaN</td>\n",
       "    </tr>\n",
       "  </tbody>\n",
       "</table>\n",
       "<p>1 rows × 27 columns</p>\n",
       "</div>"
      ],
      "text/plain": [
       "        interest_rate  unique_id_loan  unquie_id_borrower  \\\n",
       "364111         0.0769             NaN                 NaN   \n",
       "\n",
       "        loan_amount_requested  loan_amount_funded  inverstor_funded_loan  \\\n",
       "364111                    NaN                 NaN                    NaN   \n",
       "\n",
       "       number_payments loan_grade employer/job_title years_employed  ...  \\\n",
       "364111             NaN    Unknown            Unknown             10  ...   \n",
       "\n",
       "       debt_to_income  30+_pastdue_times date_earliest_reported_credit_line  \\\n",
       "364111            NaN                NaN                                NaN   \n",
       "\n",
       "       num_inqueries_creditor num_open_credit_lines num_derogatory_records  \\\n",
       "364111                    NaN                   NaN                    NaN   \n",
       "\n",
       "       credit_revolving_balance  revolving_line_utilization_rate  \\\n",
       "364111                      NaN                           0.5725   \n",
       "\n",
       "        total_credit_lines initial_loan_status  \n",
       "364111                 NaN                 NaN  \n",
       "\n",
       "[1 rows x 27 columns]"
      ]
     },
     "execution_count": 38,
     "metadata": {},
     "output_type": "execute_result"
    }
   ],
   "source": [
    "# null/blank row\n",
    "df[df['loan_amount_requested'].isnull()]"
   ]
  },
  {
   "cell_type": "code",
   "execution_count": 39,
   "id": "9b5f398e",
   "metadata": {},
   "outputs": [
    {
     "data": {
      "text/plain": [
       "0"
      ]
     },
     "execution_count": 39,
     "metadata": {},
     "output_type": "execute_result"
    }
   ],
   "source": [
    "# drop null'blank row\n",
    "df = df.dropna()\n",
    "#train\n",
    "df.isnull().sum().sum()"
   ]
  },
  {
   "cell_type": "code",
   "execution_count": 40,
   "id": "109f65b2",
   "metadata": {},
   "outputs": [
    {
     "data": {
      "text/plain": [
       "0"
      ]
     },
     "execution_count": 40,
     "metadata": {},
     "output_type": "execute_result"
    }
   ],
   "source": [
    "#test\n",
    "df_test.isnull().sum().sum()"
   ]
  },
  {
   "cell_type": "markdown",
   "id": "ed0cd4a4",
   "metadata": {},
   "source": [
    "### Feature Engineering "
   ]
  },
  {
   "cell_type": "markdown",
   "id": "4018b452",
   "metadata": {},
   "source": [
    "#### 1. Drop columns state_borrower and date_earliest_reported_credit_line "
   ]
  },
  {
   "cell_type": "code",
   "execution_count": 41,
   "id": "1ec99216",
   "metadata": {
    "scrolled": true
   },
   "outputs": [],
   "source": [
    "# train\n",
    "df = df.drop(\"zip_code\", 1)\n",
    "df = df.drop(\"date_earliest_reported_credit_line\", 1)\n",
    "\n",
    "# test \n",
    "df_test = df_test.drop(\"zip_code\", 1)\n",
    "df_test = df_test.drop(\"date_earliest_reported_credit_line\", 1)"
   ]
  },
  {
   "cell_type": "markdown",
   "id": "2650d91d",
   "metadata": {},
   "source": [
    "#### 2. Only keep the month in date_loan_issued column"
   ]
  },
  {
   "cell_type": "code",
   "execution_count": 42,
   "id": "b833b760",
   "metadata": {},
   "outputs": [],
   "source": [
    "# train \n",
    "df['date_loan_issued'] = df['date_loan_issued'].str.replace('2022-','')\n",
    "df['date_loan_issued'] = df['date_loan_issued'].replace(to_replace ='-.*', value = '', regex = True)"
   ]
  },
  {
   "cell_type": "code",
   "execution_count": 43,
   "id": "76681612",
   "metadata": {},
   "outputs": [],
   "source": [
    "# test\n",
    "df_test['date_loan_issued'] = df_test['date_loan_issued'].str.replace('2022-','')\n",
    "df_test['date_loan_issued'] = df_test['date_loan_issued'].replace(to_replace ='-.*', value = '', regex = True)"
   ]
  },
  {
   "cell_type": "markdown",
   "id": "f2686681",
   "metadata": {},
   "source": [
    "#### 3. Convert years_employed, number_payments to integer"
   ]
  },
  {
   "cell_type": "code",
   "execution_count": 44,
   "id": "cc7baca0",
   "metadata": {},
   "outputs": [],
   "source": [
    "# train\n",
    "df[\"years_employed\"] = df[\"years_employed\"].astype(int)\n",
    "df[\"number_payments\"] = df[\"number_payments\"].astype(int)"
   ]
  },
  {
   "cell_type": "code",
   "execution_count": 45,
   "id": "00662c0f",
   "metadata": {},
   "outputs": [],
   "source": [
    "# test\n",
    "df_test[\"years_employed\"] = df_test[\"years_employed\"].astype(int)\n",
    "df_test[\"number_payments\"] = df_test[\"number_payments\"].astype(int)"
   ]
  },
  {
   "cell_type": "markdown",
   "id": "21ef9544",
   "metadata": {},
   "source": [
    "#### 4. Re-categorize employer/job_title column\n",
    "There are so many categories in this column, and thus I will merge common categories and pick top 5 frequent categories only, including \"Manager,\" \"Unknown,\" \"Teacher,\" \"Nurse,\" and \"Driver.\" For the rest categories, I will rename them as \"Other.\""
   ]
  },
  {
   "cell_type": "code",
   "execution_count": 46,
   "id": "3d75c74d",
   "metadata": {},
   "outputs": [
    {
     "data": {
      "text/plain": [
       "Unknown                     20256\n",
       "Teacher                      3602\n",
       "Manager                      2875\n",
       "Registered Nurse             1537\n",
       "RN                           1452\n",
       "Supervisor                   1286\n",
       "Project Manager              1095\n",
       "Sales                        1048\n",
       "Office Manager                912\n",
       "Owner                         870\n",
       "manager                       866\n",
       "Driver                        842\n",
       "General Manager               806\n",
       "Director                      783\n",
       "teacher                       761\n",
       "Engineer                      704\n",
       "Vice President                618\n",
       "driver                        612\n",
       "President                     557\n",
       "Administrative Assistant      549\n",
       "Name: employer/job_title, dtype: int64"
      ]
     },
     "execution_count": 46,
     "metadata": {},
     "output_type": "execute_result"
    }
   ],
   "source": [
    "# train\n",
    "df['employer/job_title'].value_counts().head(20)"
   ]
  },
  {
   "cell_type": "code",
   "execution_count": 47,
   "id": "fc1e9e46",
   "metadata": {},
   "outputs": [
    {
     "data": {
      "text/plain": [
       "Unknown                     4394\n",
       "Teacher                     1557\n",
       "Manager                     1277\n",
       "Owner                        779\n",
       "RN                           595\n",
       "                            ... \n",
       "Office assistan one            1\n",
       "Press Utility                  1\n",
       "logistics team member          1\n",
       "Pharmacy Director              1\n",
       "Bridge & Building Welder       1\n",
       "Name: employer/job_title, Length: 31558, dtype: int64"
      ]
     },
     "execution_count": 47,
     "metadata": {},
     "output_type": "execute_result"
    }
   ],
   "source": [
    "# test\n",
    "df_test['employer/job_title'].value_counts()"
   ]
  },
  {
   "cell_type": "code",
   "execution_count": 48,
   "id": "1e7558cc",
   "metadata": {},
   "outputs": [],
   "source": [
    "# Merge all types pf managers together \n",
    "# train\n",
    "df['employer/job_title'] = df['employer/job_title'].replace(to_replace ='.*Manager.*', value = 'Manager', regex = True)\n",
    "\n",
    "# test\n",
    "df_test['employer/job_title'] = df_test['employer/job_title'].replace(to_replace ='.*Manager.*', value = 'Manager', regex = True)"
   ]
  },
  {
   "cell_type": "code",
   "execution_count": 49,
   "id": "5d187cb5",
   "metadata": {},
   "outputs": [],
   "source": [
    "# Merge all types of presidents\n",
    "#train\n",
    "df['employer/job_title'] = df['employer/job_title'].replace(to_replace ='.*President.*', value = 'President', regex = True)\n",
    "\n",
    "#test\n",
    "df_test['employer/job_title'] = df_test['employer/job_title'].replace(to_replace ='.*President.*', value = 'President', regex = True)"
   ]
  },
  {
   "cell_type": "code",
   "execution_count": 50,
   "id": "6757a03e",
   "metadata": {},
   "outputs": [],
   "source": [
    "# Merge all types of drivers\n",
    "# train\n",
    "df['employer/job_title'] = df['employer/job_title'].replace(to_replace ='.*Driver.*', value = 'Driver', regex = True)\n",
    "\n",
    "# test\n",
    "df_test['employer/job_title'] = df_test['employer/job_title'].replace(to_replace ='.*Driver.*', value = 'Driver', regex = True)"
   ]
  },
  {
   "cell_type": "code",
   "execution_count": 51,
   "id": "99443b3c",
   "metadata": {},
   "outputs": [],
   "source": [
    "# Merge 'Registered Nurse' with 'RN'\n",
    "#train\n",
    "df['employer/job_title'] = df['employer/job_title'].str.replace('RN','Registered Nurse')\n",
    "\n",
    "#test\n",
    "df_test['employer/job_title'] = df_test['employer/job_title'].str.replace('RN','Registered Nurse')"
   ]
  },
  {
   "cell_type": "code",
   "execution_count": 52,
   "id": "1a444048",
   "metadata": {},
   "outputs": [
    {
     "data": {
      "text/plain": [
       "Manager                                   23220\n",
       "Unknown                                   20256\n",
       "Teacher                                    4363\n",
       "Registered Nurse                           3293\n",
       "Driver                                     2460\n",
       "                                          ...  \n",
       "Gutman Early Learning Center                  1\n",
       "Alabama Commission on Higher Education        1\n",
       "warehouse worker Supervisor                   1\n",
       "Technian                                      1\n",
       "Senior Relationship Advisor                   1\n",
       "Name: employer/job_title, Length: 156716, dtype: int64"
      ]
     },
     "execution_count": 52,
     "metadata": {},
     "output_type": "execute_result"
    }
   ],
   "source": [
    "# Unified format of 'Manager' 'Teacher', 'Supervisor', 'Driver' \"Sales\", \"Owner\"\n",
    "# train \n",
    "df['employer/job_title'] = df['employer/job_title'].str.replace('MANAGER','Manager')\n",
    "df['employer/job_title'] = df['employer/job_title'].str.replace('manager','Manager')\n",
    "df['employer/job_title'] = df['employer/job_title'].str.replace('teacher','Teacher')\n",
    "df['employer/job_title'] = df['employer/job_title'].str.replace('supervisor','Supervisor')\n",
    "df['employer/job_title'] = df['employer/job_title'].str.replace('driver','Driver')\n",
    "df['employer/job_title'] = df['employer/job_title'].str.replace('sales','Sales')\n",
    "df['employer/job_title'] = df['employer/job_title'].str.replace('owner','Owner')\n",
    "df['employer/job_title'] = df['employer/job_title'].str.replace('registered nurse','Registered Nurse')\n",
    "df['employer/job_title'].value_counts()"
   ]
  },
  {
   "cell_type": "code",
   "execution_count": 53,
   "id": "4208e77b",
   "metadata": {},
   "outputs": [
    {
     "data": {
      "text/plain": [
       "Manager                        9868\n",
       "Unknown                        4394\n",
       "Teacher                        1917\n",
       "Registered Nurse               1280\n",
       "Owner                          1227\n",
       "                               ... \n",
       "Deputy Director, CTO              1\n",
       "Customer Experience Analyst       1\n",
       "Flight chief                      1\n",
       "submarine electrician             1\n",
       "Bridge & Building Welder          1\n",
       "Name: employer/job_title, Length: 28253, dtype: int64"
      ]
     },
     "execution_count": 53,
     "metadata": {},
     "output_type": "execute_result"
    }
   ],
   "source": [
    "# Unified format of 'Manager' 'Teacher', 'Supervisor', 'Driver' \"Sales\", \"Owner\"\n",
    "# test\n",
    "df_test['employer/job_title'] = df_test['employer/job_title'].str.replace('MANAGER','Manager')\n",
    "df_test['employer/job_title'] = df_test['employer/job_title'].str.replace('manager','Manager')\n",
    "df_test['employer/job_title'] = df_test['employer/job_title'].str.replace('teacher','Teacher')\n",
    "df_test['employer/job_title'] = df_test['employer/job_title'].str.replace('supervisor','Supervisor')\n",
    "df_test['employer/job_title'] = df_test['employer/job_title'].str.replace('driver','Driver')\n",
    "df_test['employer/job_title'] = df_test['employer/job_title'].str.replace('sales','Sales')\n",
    "df_test['employer/job_title'] = df_test['employer/job_title'].str.replace('owner','Owner')\n",
    "df_test['employer/job_title'] = df_test['employer/job_title'].str.replace('registered nurse','Registered Nurse')\n",
    "df_test['employer/job_title'].value_counts()"
   ]
  },
  {
   "cell_type": "code",
   "execution_count": 54,
   "id": "27da2845",
   "metadata": {},
   "outputs": [],
   "source": [
    "# Select Manager,\" \"Unknown,\" \"Teacher,\" \"Nurse,\" and \"Driver.\" and rename rest as \"Other\"\n",
    "# train\n",
    "top_5 = ['Manager', 'Unkown','Registered Nurse', 'Teacher','Assistant']\n",
    "df['employer/job_title'] = df['employer/job_title'].apply(lambda i: i if i in top_5 else 'OTHER')\n",
    "\n",
    "# test\n",
    "df_test['employer/job_title'] = df_test['employer/job_title'].apply(lambda i: i if i in top_5 else 'OTHER')"
   ]
  },
  {
   "cell_type": "markdown",
   "id": "b7304f1b",
   "metadata": {},
   "source": [
    "#### 5. Encode categorcial variables in both train and test datasets "
   ]
  },
  {
   "cell_type": "code",
   "execution_count": 55,
   "id": "d499653d",
   "metadata": {},
   "outputs": [
    {
     "data": {
      "text/plain": [
       "f    40440\n",
       "w    39560\n",
       "Name: initial_loan_status, dtype: int64"
      ]
     },
     "execution_count": 55,
     "metadata": {},
     "output_type": "execute_result"
    }
   ],
   "source": [
    "df_test['initial_loan_status'].value_counts()"
   ]
  },
  {
   "cell_type": "code",
   "execution_count": 56,
   "id": "7f2655d2",
   "metadata": {},
   "outputs": [],
   "source": [
    "# loan_grade\n",
    "#train \n",
    "le = preprocessing.LabelEncoder()\n",
    "df['loan_grade'] = le.fit_transform(df['loan_grade'])\n",
    "\n",
    "#test\n",
    "df_test['loan_grade'] = le.fit_transform(df_test['loan_grade'])"
   ]
  },
  {
   "cell_type": "code",
   "execution_count": 57,
   "id": "bd5fe087",
   "metadata": {},
   "outputs": [],
   "source": [
    "# employer/job_title\n",
    "#train \n",
    "df['employer/job_title'] = le.fit_transform(df['employer/job_title'])\n",
    "\n",
    "#test\n",
    "df_test['employer/job_title'] = le.fit_transform(df_test['employer/job_title'])"
   ]
  },
  {
   "cell_type": "code",
   "execution_count": 58,
   "id": "b3fc27cb",
   "metadata": {},
   "outputs": [],
   "source": [
    "# home_owenrship_status\n",
    "#train \n",
    "df['home_owenrship_status'] = le.fit_transform(df['home_owenrship_status'])\n",
    "\n",
    "#test\n",
    "df_test['home_owenrship_status'] = le.fit_transform(df_test['home_owenrship_status'])"
   ]
  },
  {
   "cell_type": "code",
   "execution_count": 59,
   "id": "06cdf459",
   "metadata": {},
   "outputs": [],
   "source": [
    "# income_verification\n",
    "#train \n",
    "df['income_verification'] = le.fit_transform(df['income_verification'])\n",
    "\n",
    "#test\n",
    "df_test['income_verification'] = le.fit_transform(df_test['income_verification'])"
   ]
  },
  {
   "cell_type": "code",
   "execution_count": 60,
   "id": "c00558b6",
   "metadata": {},
   "outputs": [],
   "source": [
    "# date_loan_issued \n",
    "#train \n",
    "df['date_loan_issued'] = le.fit_transform(df['date_loan_issued'])\n",
    "\n",
    "#test\n",
    "df_test['date_loan_issued'] = le.fit_transform(df_test['date_loan_issued'])"
   ]
  },
  {
   "cell_type": "code",
   "execution_count": 61,
   "id": "028d36d4",
   "metadata": {},
   "outputs": [],
   "source": [
    "# loan_category\n",
    "#train \n",
    "df['loan_category'] = le.fit_transform(df['loan_category'])\n",
    "\n",
    "#test\n",
    "df_test['loan_category'] = le.fit_transform(df_test['loan_category'])"
   ]
  },
  {
   "cell_type": "code",
   "execution_count": 62,
   "id": "12314fc6",
   "metadata": {},
   "outputs": [],
   "source": [
    "# state_borrower\n",
    "#train \n",
    "df['state_borrower'] = le.fit_transform(df['state_borrower'])\n",
    "\n",
    "#test\n",
    "df_test['state_borrower'] = le.fit_transform(df_test['state_borrower'])"
   ]
  },
  {
   "cell_type": "code",
   "execution_count": 63,
   "id": "249537ce",
   "metadata": {},
   "outputs": [],
   "source": [
    "# initial_loan_status\n",
    "#train \n",
    "df['initial_loan_status'] = le.fit_transform(df['initial_loan_status'])\n",
    "\n",
    "#test\n",
    "df_test['initial_loan_status'] = le.fit_transform(df_test['initial_loan_status'])"
   ]
  },
  {
   "cell_type": "markdown",
   "id": "b9dc17e7",
   "metadata": {},
   "source": [
    "#### 6. drop unique_id_loan and unique_id_borrower as they are not relevant to the response variable "
   ]
  },
  {
   "cell_type": "code",
   "execution_count": 64,
   "id": "bdb0566d",
   "metadata": {},
   "outputs": [],
   "source": [
    "# train \n",
    "loan_train = df.drop(\"unique_id_loan\", 1)\n",
    "\n",
    "# test\n",
    "loan_test = df_test.drop(\"unique_id_loan\", 1)"
   ]
  },
  {
   "cell_type": "code",
   "execution_count": 65,
   "id": "65fbbd35",
   "metadata": {},
   "outputs": [],
   "source": [
    "# train \n",
    "loan_train = df.drop(\"unquie_id_borrower\", 1)\n",
    "\n",
    "# test\n",
    "loan_test = df_test.drop(\"unquie_id_borrower\", 1)"
   ]
  },
  {
   "cell_type": "code",
   "execution_count": 66,
   "id": "611bb478",
   "metadata": {
    "scrolled": false
   },
   "outputs": [
    {
     "name": "stdout",
     "output_type": "stream",
     "text": [
      "<class 'pandas.core.frame.DataFrame'>\n",
      "Int64Index: 338989 entries, 0 to 399999\n",
      "Data columns (total 25 columns):\n",
      " #   Column                           Non-Null Count   Dtype  \n",
      "---  ------                           --------------   -----  \n",
      " 0   interest_rate                    338989 non-null  float64\n",
      " 1   unique_id_loan                   338989 non-null  float64\n",
      " 2   unquie_id_borrower               338989 non-null  float64\n",
      " 3   loan_amount_requested            338989 non-null  float64\n",
      " 4   loan_amount_funded               338989 non-null  float64\n",
      " 5   inverstor_funded_loan            338989 non-null  float64\n",
      " 6   number_payments                  338989 non-null  int32  \n",
      " 7   loan_grade                       338989 non-null  int32  \n",
      " 8   employer/job_title               338989 non-null  int32  \n",
      " 9   years_employed                   338989 non-null  int32  \n",
      " 10  home_owenrship_status            338989 non-null  int32  \n",
      " 11  annual_income_borrower           338989 non-null  float64\n",
      " 12  income_verification              338989 non-null  int32  \n",
      " 13  date_loan_issued                 338989 non-null  int32  \n",
      " 14  loan_category                    338989 non-null  int32  \n",
      " 15  state_borrower                   338989 non-null  int32  \n",
      " 16  debt_to_income                   338989 non-null  float64\n",
      " 17  30+_pastdue_times                338989 non-null  float64\n",
      " 18  num_inqueries_creditor           338989 non-null  float64\n",
      " 19  num_open_credit_lines            338989 non-null  float64\n",
      " 20  num_derogatory_records           338989 non-null  float64\n",
      " 21  credit_revolving_balance         338989 non-null  float64\n",
      " 22  revolving_line_utilization_rate  338989 non-null  float64\n",
      " 23  total_credit_lines               338989 non-null  float64\n",
      " 24  initial_loan_status              338989 non-null  int32  \n",
      "dtypes: float64(15), int32(10)\n",
      "memory usage: 54.3 MB\n"
     ]
    }
   ],
   "source": [
    "df.info()"
   ]
  },
  {
   "cell_type": "markdown",
   "id": "5d7e6d24",
   "metadata": {},
   "source": [
    "### EDA"
   ]
  },
  {
   "cell_type": "markdown",
   "id": "ad251fb7",
   "metadata": {},
   "source": [
    "#### Correlation Matrix  & Plot"
   ]
  },
  {
   "cell_type": "code",
   "execution_count": 67,
   "id": "d7b80452",
   "metadata": {},
   "outputs": [
    {
     "data": {
      "text/html": [
       "<div>\n",
       "<style scoped>\n",
       "    .dataframe tbody tr th:only-of-type {\n",
       "        vertical-align: middle;\n",
       "    }\n",
       "\n",
       "    .dataframe tbody tr th {\n",
       "        vertical-align: top;\n",
       "    }\n",
       "\n",
       "    .dataframe thead th {\n",
       "        text-align: right;\n",
       "    }\n",
       "</style>\n",
       "<table border=\"1\" class=\"dataframe\">\n",
       "  <thead>\n",
       "    <tr style=\"text-align: right;\">\n",
       "      <th></th>\n",
       "      <th>interest_rate</th>\n",
       "      <th>unique_id_loan</th>\n",
       "      <th>loan_amount_requested</th>\n",
       "      <th>loan_amount_funded</th>\n",
       "      <th>inverstor_funded_loan</th>\n",
       "      <th>number_payments</th>\n",
       "      <th>loan_grade</th>\n",
       "      <th>employer/job_title</th>\n",
       "      <th>years_employed</th>\n",
       "      <th>home_owenrship_status</th>\n",
       "      <th>...</th>\n",
       "      <th>state_borrower</th>\n",
       "      <th>debt_to_income</th>\n",
       "      <th>30+_pastdue_times</th>\n",
       "      <th>num_inqueries_creditor</th>\n",
       "      <th>num_open_credit_lines</th>\n",
       "      <th>num_derogatory_records</th>\n",
       "      <th>credit_revolving_balance</th>\n",
       "      <th>revolving_line_utilization_rate</th>\n",
       "      <th>total_credit_lines</th>\n",
       "      <th>initial_loan_status</th>\n",
       "    </tr>\n",
       "  </thead>\n",
       "  <tbody>\n",
       "    <tr>\n",
       "      <th>interest_rate</th>\n",
       "      <td>1.000000</td>\n",
       "      <td>0.033545</td>\n",
       "      <td>0.177732</td>\n",
       "      <td>0.177732</td>\n",
       "      <td>0.177732</td>\n",
       "      <td>0.456447</td>\n",
       "      <td>0.479367</td>\n",
       "      <td>-0.006554</td>\n",
       "      <td>0.039394</td>\n",
       "      <td>0.054400</td>\n",
       "      <td>...</td>\n",
       "      <td>0.006627</td>\n",
       "      <td>0.158111</td>\n",
       "      <td>0.091661</td>\n",
       "      <td>0.210398</td>\n",
       "      <td>0.020455</td>\n",
       "      <td>0.073577</td>\n",
       "      <td>0.008171</td>\n",
       "      <td>0.342442</td>\n",
       "      <td>-0.027147</td>\n",
       "      <td>-0.009729</td>\n",
       "    </tr>\n",
       "    <tr>\n",
       "      <th>unique_id_loan</th>\n",
       "      <td>0.033545</td>\n",
       "      <td>1.000000</td>\n",
       "      <td>0.074463</td>\n",
       "      <td>0.074463</td>\n",
       "      <td>0.074463</td>\n",
       "      <td>0.076678</td>\n",
       "      <td>0.046451</td>\n",
       "      <td>-0.068387</td>\n",
       "      <td>0.049436</td>\n",
       "      <td>-0.018157</td>\n",
       "      <td>...</td>\n",
       "      <td>0.021838</td>\n",
       "      <td>0.119501</td>\n",
       "      <td>0.079511</td>\n",
       "      <td>-0.015601</td>\n",
       "      <td>0.114162</td>\n",
       "      <td>0.121297</td>\n",
       "      <td>0.021698</td>\n",
       "      <td>-0.007588</td>\n",
       "      <td>0.094038</td>\n",
       "      <td>0.355093</td>\n",
       "    </tr>\n",
       "    <tr>\n",
       "      <th>loan_amount_requested</th>\n",
       "      <td>0.177732</td>\n",
       "      <td>0.074463</td>\n",
       "      <td>1.000000</td>\n",
       "      <td>1.000000</td>\n",
       "      <td>1.000000</td>\n",
       "      <td>0.411106</td>\n",
       "      <td>0.090218</td>\n",
       "      <td>-0.035024</td>\n",
       "      <td>0.100549</td>\n",
       "      <td>-0.177998</td>\n",
       "      <td>...</td>\n",
       "      <td>0.018458</td>\n",
       "      <td>0.061124</td>\n",
       "      <td>0.008768</td>\n",
       "      <td>-0.002119</td>\n",
       "      <td>0.204428</td>\n",
       "      <td>-0.077598</td>\n",
       "      <td>0.334003</td>\n",
       "      <td>0.118226</td>\n",
       "      <td>0.237175</td>\n",
       "      <td>0.052836</td>\n",
       "    </tr>\n",
       "    <tr>\n",
       "      <th>loan_amount_funded</th>\n",
       "      <td>0.177732</td>\n",
       "      <td>0.074463</td>\n",
       "      <td>1.000000</td>\n",
       "      <td>1.000000</td>\n",
       "      <td>1.000000</td>\n",
       "      <td>0.411106</td>\n",
       "      <td>0.090218</td>\n",
       "      <td>-0.035024</td>\n",
       "      <td>0.100549</td>\n",
       "      <td>-0.177998</td>\n",
       "      <td>...</td>\n",
       "      <td>0.018458</td>\n",
       "      <td>0.061124</td>\n",
       "      <td>0.008768</td>\n",
       "      <td>-0.002119</td>\n",
       "      <td>0.204428</td>\n",
       "      <td>-0.077598</td>\n",
       "      <td>0.334003</td>\n",
       "      <td>0.118226</td>\n",
       "      <td>0.237175</td>\n",
       "      <td>0.052836</td>\n",
       "    </tr>\n",
       "    <tr>\n",
       "      <th>inverstor_funded_loan</th>\n",
       "      <td>0.177732</td>\n",
       "      <td>0.074463</td>\n",
       "      <td>1.000000</td>\n",
       "      <td>1.000000</td>\n",
       "      <td>1.000000</td>\n",
       "      <td>0.411106</td>\n",
       "      <td>0.090218</td>\n",
       "      <td>-0.035024</td>\n",
       "      <td>0.100549</td>\n",
       "      <td>-0.177998</td>\n",
       "      <td>...</td>\n",
       "      <td>0.018458</td>\n",
       "      <td>0.061124</td>\n",
       "      <td>0.008768</td>\n",
       "      <td>-0.002119</td>\n",
       "      <td>0.204428</td>\n",
       "      <td>-0.077598</td>\n",
       "      <td>0.334003</td>\n",
       "      <td>0.118226</td>\n",
       "      <td>0.237175</td>\n",
       "      <td>0.052836</td>\n",
       "    </tr>\n",
       "    <tr>\n",
       "      <th>number_payments</th>\n",
       "      <td>0.456447</td>\n",
       "      <td>0.076678</td>\n",
       "      <td>0.411106</td>\n",
       "      <td>0.411106</td>\n",
       "      <td>0.411106</td>\n",
       "      <td>1.000000</td>\n",
       "      <td>0.236585</td>\n",
       "      <td>-0.021883</td>\n",
       "      <td>0.069836</td>\n",
       "      <td>-0.105403</td>\n",
       "      <td>...</td>\n",
       "      <td>0.026104</td>\n",
       "      <td>0.087499</td>\n",
       "      <td>0.005597</td>\n",
       "      <td>0.025956</td>\n",
       "      <td>0.073093</td>\n",
       "      <td>-0.019521</td>\n",
       "      <td>0.093303</td>\n",
       "      <td>0.084607</td>\n",
       "      <td>0.099041</td>\n",
       "      <td>0.037905</td>\n",
       "    </tr>\n",
       "    <tr>\n",
       "      <th>loan_grade</th>\n",
       "      <td>0.479367</td>\n",
       "      <td>0.046451</td>\n",
       "      <td>0.090218</td>\n",
       "      <td>0.090218</td>\n",
       "      <td>0.090218</td>\n",
       "      <td>0.236585</td>\n",
       "      <td>1.000000</td>\n",
       "      <td>-0.003525</td>\n",
       "      <td>0.015564</td>\n",
       "      <td>0.025484</td>\n",
       "      <td>...</td>\n",
       "      <td>-0.000010</td>\n",
       "      <td>0.068384</td>\n",
       "      <td>0.043199</td>\n",
       "      <td>0.102711</td>\n",
       "      <td>0.010274</td>\n",
       "      <td>0.034882</td>\n",
       "      <td>0.006670</td>\n",
       "      <td>0.155655</td>\n",
       "      <td>-0.009156</td>\n",
       "      <td>0.000137</td>\n",
       "    </tr>\n",
       "    <tr>\n",
       "      <th>employer/job_title</th>\n",
       "      <td>-0.006554</td>\n",
       "      <td>-0.068387</td>\n",
       "      <td>-0.035024</td>\n",
       "      <td>-0.035024</td>\n",
       "      <td>-0.035024</td>\n",
       "      <td>-0.021883</td>\n",
       "      <td>-0.003525</td>\n",
       "      <td>1.000000</td>\n",
       "      <td>0.029224</td>\n",
       "      <td>0.001610</td>\n",
       "      <td>...</td>\n",
       "      <td>0.001419</td>\n",
       "      <td>0.018225</td>\n",
       "      <td>0.009671</td>\n",
       "      <td>-0.005993</td>\n",
       "      <td>0.007105</td>\n",
       "      <td>-0.014923</td>\n",
       "      <td>-0.016864</td>\n",
       "      <td>-0.005967</td>\n",
       "      <td>0.018109</td>\n",
       "      <td>-0.029537</td>\n",
       "    </tr>\n",
       "    <tr>\n",
       "      <th>years_employed</th>\n",
       "      <td>0.039394</td>\n",
       "      <td>0.049436</td>\n",
       "      <td>0.100549</td>\n",
       "      <td>0.100549</td>\n",
       "      <td>0.100549</td>\n",
       "      <td>0.069836</td>\n",
       "      <td>0.015564</td>\n",
       "      <td>0.029224</td>\n",
       "      <td>1.000000</td>\n",
       "      <td>-0.173361</td>\n",
       "      <td>...</td>\n",
       "      <td>0.011303</td>\n",
       "      <td>0.056522</td>\n",
       "      <td>0.027996</td>\n",
       "      <td>-0.007199</td>\n",
       "      <td>0.031020</td>\n",
       "      <td>0.049716</td>\n",
       "      <td>0.083401</td>\n",
       "      <td>0.040552</td>\n",
       "      <td>0.106947</td>\n",
       "      <td>0.028769</td>\n",
       "    </tr>\n",
       "    <tr>\n",
       "      <th>home_owenrship_status</th>\n",
       "      <td>0.054400</td>\n",
       "      <td>-0.018157</td>\n",
       "      <td>-0.177998</td>\n",
       "      <td>-0.177998</td>\n",
       "      <td>-0.177998</td>\n",
       "      <td>-0.105403</td>\n",
       "      <td>0.025484</td>\n",
       "      <td>0.001610</td>\n",
       "      <td>-0.173361</td>\n",
       "      <td>1.000000</td>\n",
       "      <td>...</td>\n",
       "      <td>-0.061982</td>\n",
       "      <td>0.000824</td>\n",
       "      <td>-0.045148</td>\n",
       "      <td>-0.060478</td>\n",
       "      <td>-0.122071</td>\n",
       "      <td>0.001653</td>\n",
       "      <td>-0.140236</td>\n",
       "      <td>-0.002794</td>\n",
       "      <td>-0.205035</td>\n",
       "      <td>-0.020751</td>\n",
       "    </tr>\n",
       "    <tr>\n",
       "      <th>annual_income_borrower</th>\n",
       "      <td>-0.028590</td>\n",
       "      <td>0.034417</td>\n",
       "      <td>0.318267</td>\n",
       "      <td>0.318267</td>\n",
       "      <td>0.318267</td>\n",
       "      <td>0.060863</td>\n",
       "      <td>-0.010267</td>\n",
       "      <td>-0.035940</td>\n",
       "      <td>0.043103</td>\n",
       "      <td>-0.139247</td>\n",
       "      <td>...</td>\n",
       "      <td>-0.003484</td>\n",
       "      <td>-0.161018</td>\n",
       "      <td>0.054512</td>\n",
       "      <td>0.057526</td>\n",
       "      <td>0.139825</td>\n",
       "      <td>-0.013269</td>\n",
       "      <td>0.291266</td>\n",
       "      <td>0.030413</td>\n",
       "      <td>0.198633</td>\n",
       "      <td>0.022384</td>\n",
       "    </tr>\n",
       "    <tr>\n",
       "      <th>income_verification</th>\n",
       "      <td>-0.233920</td>\n",
       "      <td>0.057776</td>\n",
       "      <td>-0.364647</td>\n",
       "      <td>-0.364647</td>\n",
       "      <td>-0.364647</td>\n",
       "      <td>-0.273995</td>\n",
       "      <td>-0.107955</td>\n",
       "      <td>0.000278</td>\n",
       "      <td>-0.116244</td>\n",
       "      <td>0.082007</td>\n",
       "      <td>...</td>\n",
       "      <td>0.002144</td>\n",
       "      <td>-0.123924</td>\n",
       "      <td>-0.003381</td>\n",
       "      <td>-0.057658</td>\n",
       "      <td>-0.068893</td>\n",
       "      <td>-0.043776</td>\n",
       "      <td>-0.129922</td>\n",
       "      <td>-0.073161</td>\n",
       "      <td>-0.104820</td>\n",
       "      <td>0.020187</td>\n",
       "    </tr>\n",
       "    <tr>\n",
       "      <th>date_loan_issued</th>\n",
       "      <td>-0.003092</td>\n",
       "      <td>0.016732</td>\n",
       "      <td>-0.012688</td>\n",
       "      <td>-0.012688</td>\n",
       "      <td>-0.012688</td>\n",
       "      <td>0.012332</td>\n",
       "      <td>-0.003879</td>\n",
       "      <td>-0.004157</td>\n",
       "      <td>0.001048</td>\n",
       "      <td>0.001451</td>\n",
       "      <td>...</td>\n",
       "      <td>-0.004299</td>\n",
       "      <td>0.009185</td>\n",
       "      <td>-0.006952</td>\n",
       "      <td>-0.024690</td>\n",
       "      <td>-0.005868</td>\n",
       "      <td>-0.012181</td>\n",
       "      <td>-0.002159</td>\n",
       "      <td>-0.005344</td>\n",
       "      <td>-0.008994</td>\n",
       "      <td>-0.048341</td>\n",
       "    </tr>\n",
       "    <tr>\n",
       "      <th>loan_category</th>\n",
       "      <td>0.131771</td>\n",
       "      <td>-0.094666</td>\n",
       "      <td>-0.153003</td>\n",
       "      <td>-0.153003</td>\n",
       "      <td>-0.153003</td>\n",
       "      <td>-0.033957</td>\n",
       "      <td>0.072533</td>\n",
       "      <td>0.013699</td>\n",
       "      <td>-0.036018</td>\n",
       "      <td>0.034756</td>\n",
       "      <td>...</td>\n",
       "      <td>-0.007226</td>\n",
       "      <td>-0.114260</td>\n",
       "      <td>0.011131</td>\n",
       "      <td>0.050870</td>\n",
       "      <td>-0.094876</td>\n",
       "      <td>0.005631</td>\n",
       "      <td>-0.078737</td>\n",
       "      <td>-0.129498</td>\n",
       "      <td>-0.072281</td>\n",
       "      <td>-0.068278</td>\n",
       "    </tr>\n",
       "    <tr>\n",
       "      <th>state_borrower</th>\n",
       "      <td>0.006627</td>\n",
       "      <td>0.021838</td>\n",
       "      <td>0.018458</td>\n",
       "      <td>0.018458</td>\n",
       "      <td>0.018458</td>\n",
       "      <td>0.026104</td>\n",
       "      <td>-0.000010</td>\n",
       "      <td>0.001419</td>\n",
       "      <td>0.011303</td>\n",
       "      <td>-0.061982</td>\n",
       "      <td>...</td>\n",
       "      <td>1.000000</td>\n",
       "      <td>0.042642</td>\n",
       "      <td>0.004862</td>\n",
       "      <td>0.006736</td>\n",
       "      <td>0.033371</td>\n",
       "      <td>0.001085</td>\n",
       "      <td>0.000397</td>\n",
       "      <td>-0.000615</td>\n",
       "      <td>0.045680</td>\n",
       "      <td>0.010193</td>\n",
       "    </tr>\n",
       "    <tr>\n",
       "      <th>debt_to_income</th>\n",
       "      <td>0.158111</td>\n",
       "      <td>0.119501</td>\n",
       "      <td>0.061124</td>\n",
       "      <td>0.061124</td>\n",
       "      <td>0.061124</td>\n",
       "      <td>0.087499</td>\n",
       "      <td>0.068384</td>\n",
       "      <td>0.018225</td>\n",
       "      <td>0.056522</td>\n",
       "      <td>0.000824</td>\n",
       "      <td>...</td>\n",
       "      <td>0.042642</td>\n",
       "      <td>1.000000</td>\n",
       "      <td>-0.002780</td>\n",
       "      <td>0.000108</td>\n",
       "      <td>0.304079</td>\n",
       "      <td>-0.045657</td>\n",
       "      <td>0.146286</td>\n",
       "      <td>0.206202</td>\n",
       "      <td>0.228753</td>\n",
       "      <td>0.048361</td>\n",
       "    </tr>\n",
       "    <tr>\n",
       "      <th>30+_pastdue_times</th>\n",
       "      <td>0.091661</td>\n",
       "      <td>0.079511</td>\n",
       "      <td>0.008768</td>\n",
       "      <td>0.008768</td>\n",
       "      <td>0.008768</td>\n",
       "      <td>0.005597</td>\n",
       "      <td>0.043199</td>\n",
       "      <td>0.009671</td>\n",
       "      <td>0.027996</td>\n",
       "      <td>-0.045148</td>\n",
       "      <td>...</td>\n",
       "      <td>0.004862</td>\n",
       "      <td>-0.002780</td>\n",
       "      <td>1.000000</td>\n",
       "      <td>0.024449</td>\n",
       "      <td>0.062197</td>\n",
       "      <td>-0.008412</td>\n",
       "      <td>-0.030157</td>\n",
       "      <td>-0.011921</td>\n",
       "      <td>0.133373</td>\n",
       "      <td>0.030174</td>\n",
       "    </tr>\n",
       "    <tr>\n",
       "      <th>num_inqueries_creditor</th>\n",
       "      <td>0.210398</td>\n",
       "      <td>-0.015601</td>\n",
       "      <td>-0.002119</td>\n",
       "      <td>-0.002119</td>\n",
       "      <td>-0.002119</td>\n",
       "      <td>0.025956</td>\n",
       "      <td>0.102711</td>\n",
       "      <td>-0.005993</td>\n",
       "      <td>-0.007199</td>\n",
       "      <td>-0.060478</td>\n",
       "      <td>...</td>\n",
       "      <td>0.006736</td>\n",
       "      <td>0.000108</td>\n",
       "      <td>0.024449</td>\n",
       "      <td>1.000000</td>\n",
       "      <td>0.099971</td>\n",
       "      <td>0.038387</td>\n",
       "      <td>-0.015416</td>\n",
       "      <td>-0.096166</td>\n",
       "      <td>0.134044</td>\n",
       "      <td>-0.008587</td>\n",
       "    </tr>\n",
       "    <tr>\n",
       "      <th>num_open_credit_lines</th>\n",
       "      <td>0.020455</td>\n",
       "      <td>0.114162</td>\n",
       "      <td>0.204428</td>\n",
       "      <td>0.204428</td>\n",
       "      <td>0.204428</td>\n",
       "      <td>0.073093</td>\n",
       "      <td>0.010274</td>\n",
       "      <td>0.007105</td>\n",
       "      <td>0.031020</td>\n",
       "      <td>-0.122071</td>\n",
       "      <td>...</td>\n",
       "      <td>0.033371</td>\n",
       "      <td>0.304079</td>\n",
       "      <td>0.062197</td>\n",
       "      <td>0.099971</td>\n",
       "      <td>1.000000</td>\n",
       "      <td>-0.029546</td>\n",
       "      <td>0.221781</td>\n",
       "      <td>-0.118333</td>\n",
       "      <td>0.677866</td>\n",
       "      <td>0.054998</td>\n",
       "    </tr>\n",
       "    <tr>\n",
       "      <th>num_derogatory_records</th>\n",
       "      <td>0.073577</td>\n",
       "      <td>0.121297</td>\n",
       "      <td>-0.077598</td>\n",
       "      <td>-0.077598</td>\n",
       "      <td>-0.077598</td>\n",
       "      <td>-0.019521</td>\n",
       "      <td>0.034882</td>\n",
       "      <td>-0.014923</td>\n",
       "      <td>0.049716</td>\n",
       "      <td>0.001653</td>\n",
       "      <td>...</td>\n",
       "      <td>0.001085</td>\n",
       "      <td>-0.045657</td>\n",
       "      <td>-0.008412</td>\n",
       "      <td>0.038387</td>\n",
       "      <td>-0.029546</td>\n",
       "      <td>1.000000</td>\n",
       "      <td>-0.096094</td>\n",
       "      <td>-0.056153</td>\n",
       "      <td>0.004992</td>\n",
       "      <td>0.042838</td>\n",
       "    </tr>\n",
       "    <tr>\n",
       "      <th>credit_revolving_balance</th>\n",
       "      <td>0.008171</td>\n",
       "      <td>0.021698</td>\n",
       "      <td>0.334003</td>\n",
       "      <td>0.334003</td>\n",
       "      <td>0.334003</td>\n",
       "      <td>0.093303</td>\n",
       "      <td>0.006670</td>\n",
       "      <td>-0.016864</td>\n",
       "      <td>0.083401</td>\n",
       "      <td>-0.140236</td>\n",
       "      <td>...</td>\n",
       "      <td>0.000397</td>\n",
       "      <td>0.146286</td>\n",
       "      <td>-0.030157</td>\n",
       "      <td>-0.015416</td>\n",
       "      <td>0.221781</td>\n",
       "      <td>-0.096094</td>\n",
       "      <td>1.000000</td>\n",
       "      <td>0.210155</td>\n",
       "      <td>0.200326</td>\n",
       "      <td>0.016376</td>\n",
       "    </tr>\n",
       "    <tr>\n",
       "      <th>revolving_line_utilization_rate</th>\n",
       "      <td>0.342442</td>\n",
       "      <td>-0.007588</td>\n",
       "      <td>0.118226</td>\n",
       "      <td>0.118226</td>\n",
       "      <td>0.118226</td>\n",
       "      <td>0.084607</td>\n",
       "      <td>0.155655</td>\n",
       "      <td>-0.005967</td>\n",
       "      <td>0.040552</td>\n",
       "      <td>-0.002794</td>\n",
       "      <td>...</td>\n",
       "      <td>-0.000615</td>\n",
       "      <td>0.206202</td>\n",
       "      <td>-0.011921</td>\n",
       "      <td>-0.096166</td>\n",
       "      <td>-0.118333</td>\n",
       "      <td>-0.056153</td>\n",
       "      <td>0.210155</td>\n",
       "      <td>1.000000</td>\n",
       "      <td>-0.089063</td>\n",
       "      <td>-0.004953</td>\n",
       "    </tr>\n",
       "    <tr>\n",
       "      <th>total_credit_lines</th>\n",
       "      <td>-0.027147</td>\n",
       "      <td>0.094038</td>\n",
       "      <td>0.237175</td>\n",
       "      <td>0.237175</td>\n",
       "      <td>0.237175</td>\n",
       "      <td>0.099041</td>\n",
       "      <td>-0.009156</td>\n",
       "      <td>0.018109</td>\n",
       "      <td>0.106947</td>\n",
       "      <td>-0.205035</td>\n",
       "      <td>...</td>\n",
       "      <td>0.045680</td>\n",
       "      <td>0.228753</td>\n",
       "      <td>0.133373</td>\n",
       "      <td>0.134044</td>\n",
       "      <td>0.677866</td>\n",
       "      <td>0.004992</td>\n",
       "      <td>0.200326</td>\n",
       "      <td>-0.089063</td>\n",
       "      <td>1.000000</td>\n",
       "      <td>0.049513</td>\n",
       "    </tr>\n",
       "    <tr>\n",
       "      <th>initial_loan_status</th>\n",
       "      <td>-0.009729</td>\n",
       "      <td>0.355093</td>\n",
       "      <td>0.052836</td>\n",
       "      <td>0.052836</td>\n",
       "      <td>0.052836</td>\n",
       "      <td>0.037905</td>\n",
       "      <td>0.000137</td>\n",
       "      <td>-0.029537</td>\n",
       "      <td>0.028769</td>\n",
       "      <td>-0.020751</td>\n",
       "      <td>...</td>\n",
       "      <td>0.010193</td>\n",
       "      <td>0.048361</td>\n",
       "      <td>0.030174</td>\n",
       "      <td>-0.008587</td>\n",
       "      <td>0.054998</td>\n",
       "      <td>0.042838</td>\n",
       "      <td>0.016376</td>\n",
       "      <td>-0.004953</td>\n",
       "      <td>0.049513</td>\n",
       "      <td>1.000000</td>\n",
       "    </tr>\n",
       "  </tbody>\n",
       "</table>\n",
       "<p>24 rows × 24 columns</p>\n",
       "</div>"
      ],
      "text/plain": [
       "                                 interest_rate  unique_id_loan  \\\n",
       "interest_rate                         1.000000        0.033545   \n",
       "unique_id_loan                        0.033545        1.000000   \n",
       "loan_amount_requested                 0.177732        0.074463   \n",
       "loan_amount_funded                    0.177732        0.074463   \n",
       "inverstor_funded_loan                 0.177732        0.074463   \n",
       "number_payments                       0.456447        0.076678   \n",
       "loan_grade                            0.479367        0.046451   \n",
       "employer/job_title                   -0.006554       -0.068387   \n",
       "years_employed                        0.039394        0.049436   \n",
       "home_owenrship_status                 0.054400       -0.018157   \n",
       "annual_income_borrower               -0.028590        0.034417   \n",
       "income_verification                  -0.233920        0.057776   \n",
       "date_loan_issued                     -0.003092        0.016732   \n",
       "loan_category                         0.131771       -0.094666   \n",
       "state_borrower                        0.006627        0.021838   \n",
       "debt_to_income                        0.158111        0.119501   \n",
       "30+_pastdue_times                     0.091661        0.079511   \n",
       "num_inqueries_creditor                0.210398       -0.015601   \n",
       "num_open_credit_lines                 0.020455        0.114162   \n",
       "num_derogatory_records                0.073577        0.121297   \n",
       "credit_revolving_balance              0.008171        0.021698   \n",
       "revolving_line_utilization_rate       0.342442       -0.007588   \n",
       "total_credit_lines                   -0.027147        0.094038   \n",
       "initial_loan_status                  -0.009729        0.355093   \n",
       "\n",
       "                                 loan_amount_requested  loan_amount_funded  \\\n",
       "interest_rate                                 0.177732            0.177732   \n",
       "unique_id_loan                                0.074463            0.074463   \n",
       "loan_amount_requested                         1.000000            1.000000   \n",
       "loan_amount_funded                            1.000000            1.000000   \n",
       "inverstor_funded_loan                         1.000000            1.000000   \n",
       "number_payments                               0.411106            0.411106   \n",
       "loan_grade                                    0.090218            0.090218   \n",
       "employer/job_title                           -0.035024           -0.035024   \n",
       "years_employed                                0.100549            0.100549   \n",
       "home_owenrship_status                        -0.177998           -0.177998   \n",
       "annual_income_borrower                        0.318267            0.318267   \n",
       "income_verification                          -0.364647           -0.364647   \n",
       "date_loan_issued                             -0.012688           -0.012688   \n",
       "loan_category                                -0.153003           -0.153003   \n",
       "state_borrower                                0.018458            0.018458   \n",
       "debt_to_income                                0.061124            0.061124   \n",
       "30+_pastdue_times                             0.008768            0.008768   \n",
       "num_inqueries_creditor                       -0.002119           -0.002119   \n",
       "num_open_credit_lines                         0.204428            0.204428   \n",
       "num_derogatory_records                       -0.077598           -0.077598   \n",
       "credit_revolving_balance                      0.334003            0.334003   \n",
       "revolving_line_utilization_rate               0.118226            0.118226   \n",
       "total_credit_lines                            0.237175            0.237175   \n",
       "initial_loan_status                           0.052836            0.052836   \n",
       "\n",
       "                                 inverstor_funded_loan  number_payments  \\\n",
       "interest_rate                                 0.177732         0.456447   \n",
       "unique_id_loan                                0.074463         0.076678   \n",
       "loan_amount_requested                         1.000000         0.411106   \n",
       "loan_amount_funded                            1.000000         0.411106   \n",
       "inverstor_funded_loan                         1.000000         0.411106   \n",
       "number_payments                               0.411106         1.000000   \n",
       "loan_grade                                    0.090218         0.236585   \n",
       "employer/job_title                           -0.035024        -0.021883   \n",
       "years_employed                                0.100549         0.069836   \n",
       "home_owenrship_status                        -0.177998        -0.105403   \n",
       "annual_income_borrower                        0.318267         0.060863   \n",
       "income_verification                          -0.364647        -0.273995   \n",
       "date_loan_issued                             -0.012688         0.012332   \n",
       "loan_category                                -0.153003        -0.033957   \n",
       "state_borrower                                0.018458         0.026104   \n",
       "debt_to_income                                0.061124         0.087499   \n",
       "30+_pastdue_times                             0.008768         0.005597   \n",
       "num_inqueries_creditor                       -0.002119         0.025956   \n",
       "num_open_credit_lines                         0.204428         0.073093   \n",
       "num_derogatory_records                       -0.077598        -0.019521   \n",
       "credit_revolving_balance                      0.334003         0.093303   \n",
       "revolving_line_utilization_rate               0.118226         0.084607   \n",
       "total_credit_lines                            0.237175         0.099041   \n",
       "initial_loan_status                           0.052836         0.037905   \n",
       "\n",
       "                                 loan_grade  employer/job_title  \\\n",
       "interest_rate                      0.479367           -0.006554   \n",
       "unique_id_loan                     0.046451           -0.068387   \n",
       "loan_amount_requested              0.090218           -0.035024   \n",
       "loan_amount_funded                 0.090218           -0.035024   \n",
       "inverstor_funded_loan              0.090218           -0.035024   \n",
       "number_payments                    0.236585           -0.021883   \n",
       "loan_grade                         1.000000           -0.003525   \n",
       "employer/job_title                -0.003525            1.000000   \n",
       "years_employed                     0.015564            0.029224   \n",
       "home_owenrship_status              0.025484            0.001610   \n",
       "annual_income_borrower            -0.010267           -0.035940   \n",
       "income_verification               -0.107955            0.000278   \n",
       "date_loan_issued                  -0.003879           -0.004157   \n",
       "loan_category                      0.072533            0.013699   \n",
       "state_borrower                    -0.000010            0.001419   \n",
       "debt_to_income                     0.068384            0.018225   \n",
       "30+_pastdue_times                  0.043199            0.009671   \n",
       "num_inqueries_creditor             0.102711           -0.005993   \n",
       "num_open_credit_lines              0.010274            0.007105   \n",
       "num_derogatory_records             0.034882           -0.014923   \n",
       "credit_revolving_balance           0.006670           -0.016864   \n",
       "revolving_line_utilization_rate    0.155655           -0.005967   \n",
       "total_credit_lines                -0.009156            0.018109   \n",
       "initial_loan_status                0.000137           -0.029537   \n",
       "\n",
       "                                 years_employed  home_owenrship_status  ...  \\\n",
       "interest_rate                          0.039394               0.054400  ...   \n",
       "unique_id_loan                         0.049436              -0.018157  ...   \n",
       "loan_amount_requested                  0.100549              -0.177998  ...   \n",
       "loan_amount_funded                     0.100549              -0.177998  ...   \n",
       "inverstor_funded_loan                  0.100549              -0.177998  ...   \n",
       "number_payments                        0.069836              -0.105403  ...   \n",
       "loan_grade                             0.015564               0.025484  ...   \n",
       "employer/job_title                     0.029224               0.001610  ...   \n",
       "years_employed                         1.000000              -0.173361  ...   \n",
       "home_owenrship_status                 -0.173361               1.000000  ...   \n",
       "annual_income_borrower                 0.043103              -0.139247  ...   \n",
       "income_verification                   -0.116244               0.082007  ...   \n",
       "date_loan_issued                       0.001048               0.001451  ...   \n",
       "loan_category                         -0.036018               0.034756  ...   \n",
       "state_borrower                         0.011303              -0.061982  ...   \n",
       "debt_to_income                         0.056522               0.000824  ...   \n",
       "30+_pastdue_times                      0.027996              -0.045148  ...   \n",
       "num_inqueries_creditor                -0.007199              -0.060478  ...   \n",
       "num_open_credit_lines                  0.031020              -0.122071  ...   \n",
       "num_derogatory_records                 0.049716               0.001653  ...   \n",
       "credit_revolving_balance               0.083401              -0.140236  ...   \n",
       "revolving_line_utilization_rate        0.040552              -0.002794  ...   \n",
       "total_credit_lines                     0.106947              -0.205035  ...   \n",
       "initial_loan_status                    0.028769              -0.020751  ...   \n",
       "\n",
       "                                 state_borrower  debt_to_income  \\\n",
       "interest_rate                          0.006627        0.158111   \n",
       "unique_id_loan                         0.021838        0.119501   \n",
       "loan_amount_requested                  0.018458        0.061124   \n",
       "loan_amount_funded                     0.018458        0.061124   \n",
       "inverstor_funded_loan                  0.018458        0.061124   \n",
       "number_payments                        0.026104        0.087499   \n",
       "loan_grade                            -0.000010        0.068384   \n",
       "employer/job_title                     0.001419        0.018225   \n",
       "years_employed                         0.011303        0.056522   \n",
       "home_owenrship_status                 -0.061982        0.000824   \n",
       "annual_income_borrower                -0.003484       -0.161018   \n",
       "income_verification                    0.002144       -0.123924   \n",
       "date_loan_issued                      -0.004299        0.009185   \n",
       "loan_category                         -0.007226       -0.114260   \n",
       "state_borrower                         1.000000        0.042642   \n",
       "debt_to_income                         0.042642        1.000000   \n",
       "30+_pastdue_times                      0.004862       -0.002780   \n",
       "num_inqueries_creditor                 0.006736        0.000108   \n",
       "num_open_credit_lines                  0.033371        0.304079   \n",
       "num_derogatory_records                 0.001085       -0.045657   \n",
       "credit_revolving_balance               0.000397        0.146286   \n",
       "revolving_line_utilization_rate       -0.000615        0.206202   \n",
       "total_credit_lines                     0.045680        0.228753   \n",
       "initial_loan_status                    0.010193        0.048361   \n",
       "\n",
       "                                 30+_pastdue_times  num_inqueries_creditor  \\\n",
       "interest_rate                             0.091661                0.210398   \n",
       "unique_id_loan                            0.079511               -0.015601   \n",
       "loan_amount_requested                     0.008768               -0.002119   \n",
       "loan_amount_funded                        0.008768               -0.002119   \n",
       "inverstor_funded_loan                     0.008768               -0.002119   \n",
       "number_payments                           0.005597                0.025956   \n",
       "loan_grade                                0.043199                0.102711   \n",
       "employer/job_title                        0.009671               -0.005993   \n",
       "years_employed                            0.027996               -0.007199   \n",
       "home_owenrship_status                    -0.045148               -0.060478   \n",
       "annual_income_borrower                    0.054512                0.057526   \n",
       "income_verification                      -0.003381               -0.057658   \n",
       "date_loan_issued                         -0.006952               -0.024690   \n",
       "loan_category                             0.011131                0.050870   \n",
       "state_borrower                            0.004862                0.006736   \n",
       "debt_to_income                           -0.002780                0.000108   \n",
       "30+_pastdue_times                         1.000000                0.024449   \n",
       "num_inqueries_creditor                    0.024449                1.000000   \n",
       "num_open_credit_lines                     0.062197                0.099971   \n",
       "num_derogatory_records                   -0.008412                0.038387   \n",
       "credit_revolving_balance                 -0.030157               -0.015416   \n",
       "revolving_line_utilization_rate          -0.011921               -0.096166   \n",
       "total_credit_lines                        0.133373                0.134044   \n",
       "initial_loan_status                       0.030174               -0.008587   \n",
       "\n",
       "                                 num_open_credit_lines  \\\n",
       "interest_rate                                 0.020455   \n",
       "unique_id_loan                                0.114162   \n",
       "loan_amount_requested                         0.204428   \n",
       "loan_amount_funded                            0.204428   \n",
       "inverstor_funded_loan                         0.204428   \n",
       "number_payments                               0.073093   \n",
       "loan_grade                                    0.010274   \n",
       "employer/job_title                            0.007105   \n",
       "years_employed                                0.031020   \n",
       "home_owenrship_status                        -0.122071   \n",
       "annual_income_borrower                        0.139825   \n",
       "income_verification                          -0.068893   \n",
       "date_loan_issued                             -0.005868   \n",
       "loan_category                                -0.094876   \n",
       "state_borrower                                0.033371   \n",
       "debt_to_income                                0.304079   \n",
       "30+_pastdue_times                             0.062197   \n",
       "num_inqueries_creditor                        0.099971   \n",
       "num_open_credit_lines                         1.000000   \n",
       "num_derogatory_records                       -0.029546   \n",
       "credit_revolving_balance                      0.221781   \n",
       "revolving_line_utilization_rate              -0.118333   \n",
       "total_credit_lines                            0.677866   \n",
       "initial_loan_status                           0.054998   \n",
       "\n",
       "                                 num_derogatory_records  \\\n",
       "interest_rate                                  0.073577   \n",
       "unique_id_loan                                 0.121297   \n",
       "loan_amount_requested                         -0.077598   \n",
       "loan_amount_funded                            -0.077598   \n",
       "inverstor_funded_loan                         -0.077598   \n",
       "number_payments                               -0.019521   \n",
       "loan_grade                                     0.034882   \n",
       "employer/job_title                            -0.014923   \n",
       "years_employed                                 0.049716   \n",
       "home_owenrship_status                          0.001653   \n",
       "annual_income_borrower                        -0.013269   \n",
       "income_verification                           -0.043776   \n",
       "date_loan_issued                              -0.012181   \n",
       "loan_category                                  0.005631   \n",
       "state_borrower                                 0.001085   \n",
       "debt_to_income                                -0.045657   \n",
       "30+_pastdue_times                             -0.008412   \n",
       "num_inqueries_creditor                         0.038387   \n",
       "num_open_credit_lines                         -0.029546   \n",
       "num_derogatory_records                         1.000000   \n",
       "credit_revolving_balance                      -0.096094   \n",
       "revolving_line_utilization_rate               -0.056153   \n",
       "total_credit_lines                             0.004992   \n",
       "initial_loan_status                            0.042838   \n",
       "\n",
       "                                 credit_revolving_balance  \\\n",
       "interest_rate                                    0.008171   \n",
       "unique_id_loan                                   0.021698   \n",
       "loan_amount_requested                            0.334003   \n",
       "loan_amount_funded                               0.334003   \n",
       "inverstor_funded_loan                            0.334003   \n",
       "number_payments                                  0.093303   \n",
       "loan_grade                                       0.006670   \n",
       "employer/job_title                              -0.016864   \n",
       "years_employed                                   0.083401   \n",
       "home_owenrship_status                           -0.140236   \n",
       "annual_income_borrower                           0.291266   \n",
       "income_verification                             -0.129922   \n",
       "date_loan_issued                                -0.002159   \n",
       "loan_category                                   -0.078737   \n",
       "state_borrower                                   0.000397   \n",
       "debt_to_income                                   0.146286   \n",
       "30+_pastdue_times                               -0.030157   \n",
       "num_inqueries_creditor                          -0.015416   \n",
       "num_open_credit_lines                            0.221781   \n",
       "num_derogatory_records                          -0.096094   \n",
       "credit_revolving_balance                         1.000000   \n",
       "revolving_line_utilization_rate                  0.210155   \n",
       "total_credit_lines                               0.200326   \n",
       "initial_loan_status                              0.016376   \n",
       "\n",
       "                                 revolving_line_utilization_rate  \\\n",
       "interest_rate                                           0.342442   \n",
       "unique_id_loan                                         -0.007588   \n",
       "loan_amount_requested                                   0.118226   \n",
       "loan_amount_funded                                      0.118226   \n",
       "inverstor_funded_loan                                   0.118226   \n",
       "number_payments                                         0.084607   \n",
       "loan_grade                                              0.155655   \n",
       "employer/job_title                                     -0.005967   \n",
       "years_employed                                          0.040552   \n",
       "home_owenrship_status                                  -0.002794   \n",
       "annual_income_borrower                                  0.030413   \n",
       "income_verification                                    -0.073161   \n",
       "date_loan_issued                                       -0.005344   \n",
       "loan_category                                          -0.129498   \n",
       "state_borrower                                         -0.000615   \n",
       "debt_to_income                                          0.206202   \n",
       "30+_pastdue_times                                      -0.011921   \n",
       "num_inqueries_creditor                                 -0.096166   \n",
       "num_open_credit_lines                                  -0.118333   \n",
       "num_derogatory_records                                 -0.056153   \n",
       "credit_revolving_balance                                0.210155   \n",
       "revolving_line_utilization_rate                         1.000000   \n",
       "total_credit_lines                                     -0.089063   \n",
       "initial_loan_status                                    -0.004953   \n",
       "\n",
       "                                 total_credit_lines  initial_loan_status  \n",
       "interest_rate                             -0.027147            -0.009729  \n",
       "unique_id_loan                             0.094038             0.355093  \n",
       "loan_amount_requested                      0.237175             0.052836  \n",
       "loan_amount_funded                         0.237175             0.052836  \n",
       "inverstor_funded_loan                      0.237175             0.052836  \n",
       "number_payments                            0.099041             0.037905  \n",
       "loan_grade                                -0.009156             0.000137  \n",
       "employer/job_title                         0.018109            -0.029537  \n",
       "years_employed                             0.106947             0.028769  \n",
       "home_owenrship_status                     -0.205035            -0.020751  \n",
       "annual_income_borrower                     0.198633             0.022384  \n",
       "income_verification                       -0.104820             0.020187  \n",
       "date_loan_issued                          -0.008994            -0.048341  \n",
       "loan_category                             -0.072281            -0.068278  \n",
       "state_borrower                             0.045680             0.010193  \n",
       "debt_to_income                             0.228753             0.048361  \n",
       "30+_pastdue_times                          0.133373             0.030174  \n",
       "num_inqueries_creditor                     0.134044            -0.008587  \n",
       "num_open_credit_lines                      0.677866             0.054998  \n",
       "num_derogatory_records                     0.004992             0.042838  \n",
       "credit_revolving_balance                   0.200326             0.016376  \n",
       "revolving_line_utilization_rate           -0.089063            -0.004953  \n",
       "total_credit_lines                         1.000000             0.049513  \n",
       "initial_loan_status                        0.049513             1.000000  \n",
       "\n",
       "[24 rows x 24 columns]"
      ]
     },
     "execution_count": 67,
     "metadata": {},
     "output_type": "execute_result"
    }
   ],
   "source": [
    "# correlation matrix for checking collinearity\n",
    "corrMatrix = loan_train.corr()\n",
    "corrMatrix"
   ]
  },
  {
   "cell_type": "code",
   "execution_count": 68,
   "id": "abc0e41c",
   "metadata": {},
   "outputs": [
    {
     "data": {
      "text/plain": [
       "<AxesSubplot:>"
      ]
     },
     "execution_count": 68,
     "metadata": {},
     "output_type": "execute_result"
    },
    {
     "data": {
      "image/png": "[encoded data removed]",
      "text/plain": [
       "<Figure size 1080x720 with 2 Axes>"
      ]
     },
     "metadata": {},
     "output_type": "display_data"
    }
   ],
   "source": [
    "# heatmap displaying correlation Matrix \n",
    "sns.set(rc={'figure.figsize':(15,10)})\n",
    "# show variables with correlation greater than 0.7. \n",
    "#[corrMatrix > 0.7]\n",
    "sns.heatmap(corrMatrix, annot=True)"
   ]
  },
  {
   "cell_type": "markdown",
   "id": "1a3d43e0",
   "metadata": {},
   "source": [
    "####  From correlation matrix, I find that loan_amount_requested, investor_funded_loan and loan_amount_funded have positive linear relationship with each other. Thus, to prevent issue of collinearity, I decide to drop columns investor_funded_loan and loan_amount_funded in training and testin datasets."
   ]
  },
  {
   "cell_type": "code",
   "execution_count": 69,
   "id": "01bea29d",
   "metadata": {},
   "outputs": [],
   "source": [
    "# train \n",
    "loan_train = loan_train.drop(\"inverstor_funded_loan\", 1)\n",
    "\n",
    "# test\n",
    "loan_test = loan_test.drop(\"inverstor_funded_loan\", 1)"
   ]
  },
  {
   "cell_type": "code",
   "execution_count": 70,
   "id": "4cbd1ae2",
   "metadata": {},
   "outputs": [],
   "source": [
    "# train \n",
    "loan_train = loan_train.drop(\"loan_amount_funded\", 1)\n",
    "\n",
    "# test\n",
    "loan_test = loan_test.drop(\"loan_amount_funded\", 1)"
   ]
  },
  {
   "cell_type": "markdown",
   "id": "59819940",
   "metadata": {},
   "source": [
    "## Build Models"
   ]
  },
  {
   "cell_type": "code",
   "execution_count": 71,
   "id": "c43766ed",
   "metadata": {},
   "outputs": [
    {
     "data": {
      "text/html": [
       "<div>\n",
       "<style scoped>\n",
       "    .dataframe tbody tr th:only-of-type {\n",
       "        vertical-align: middle;\n",
       "    }\n",
       "\n",
       "    .dataframe tbody tr th {\n",
       "        vertical-align: top;\n",
       "    }\n",
       "\n",
       "    .dataframe thead th {\n",
       "        text-align: right;\n",
       "    }\n",
       "</style>\n",
       "<table border=\"1\" class=\"dataframe\">\n",
       "  <thead>\n",
       "    <tr style=\"text-align: right;\">\n",
       "      <th></th>\n",
       "      <th>interest_rate</th>\n",
       "      <th>unique_id_loan</th>\n",
       "      <th>loan_amount_requested</th>\n",
       "      <th>number_payments</th>\n",
       "      <th>loan_grade</th>\n",
       "      <th>employer/job_title</th>\n",
       "      <th>years_employed</th>\n",
       "      <th>home_owenrship_status</th>\n",
       "      <th>annual_income_borrower</th>\n",
       "      <th>income_verification</th>\n",
       "      <th>...</th>\n",
       "      <th>state_borrower</th>\n",
       "      <th>debt_to_income</th>\n",
       "      <th>30+_pastdue_times</th>\n",
       "      <th>num_inqueries_creditor</th>\n",
       "      <th>num_open_credit_lines</th>\n",
       "      <th>num_derogatory_records</th>\n",
       "      <th>credit_revolving_balance</th>\n",
       "      <th>revolving_line_utilization_rate</th>\n",
       "      <th>total_credit_lines</th>\n",
       "      <th>initial_loan_status</th>\n",
       "    </tr>\n",
       "  </thead>\n",
       "  <tbody>\n",
       "    <tr>\n",
       "      <th>0</th>\n",
       "      <td>-0.469694</td>\n",
       "      <td>-1.251578</td>\n",
       "      <td>1.299407</td>\n",
       "      <td>-0.606666</td>\n",
       "      <td>-0.721423</td>\n",
       "      <td>0.092744</td>\n",
       "      <td>-1.699791</td>\n",
       "      <td>1.268514</td>\n",
       "      <td>0.221398</td>\n",
       "      <td>-1.135968</td>\n",
       "      <td>...</td>\n",
       "      <td>-1.252910</td>\n",
       "      <td>0.322553</td>\n",
       "      <td>-0.351968</td>\n",
       "      <td>-0.772152</td>\n",
       "      <td>-0.228363</td>\n",
       "      <td>-0.302138</td>\n",
       "      <td>0.651635</td>\n",
       "      <td>-0.177402</td>\n",
       "      <td>1.483838</td>\n",
       "      <td>-0.676306</td>\n",
       "    </tr>\n",
       "    <tr>\n",
       "      <th>1</th>\n",
       "      <td>-0.739227</td>\n",
       "      <td>-1.251451</td>\n",
       "      <td>-0.881816</td>\n",
       "      <td>-0.606666</td>\n",
       "      <td>-0.721423</td>\n",
       "      <td>0.092744</td>\n",
       "      <td>-1.699791</td>\n",
       "      <td>1.268514</td>\n",
       "      <td>-0.151049</td>\n",
       "      <td>1.272126</td>\n",
       "      <td>...</td>\n",
       "      <td>0.706640</td>\n",
       "      <td>-0.351717</td>\n",
       "      <td>-0.351968</td>\n",
       "      <td>-0.772152</td>\n",
       "      <td>-0.841098</td>\n",
       "      <td>-0.302138</td>\n",
       "      <td>0.892918</td>\n",
       "      <td>0.858384</td>\n",
       "      <td>-1.567229</td>\n",
       "      <td>-0.676306</td>\n",
       "    </tr>\n",
       "    <tr>\n",
       "      <th>2</th>\n",
       "      <td>0.695238</td>\n",
       "      <td>-1.251271</td>\n",
       "      <td>1.299407</td>\n",
       "      <td>-0.606666</td>\n",
       "      <td>0.176570</td>\n",
       "      <td>0.092744</td>\n",
       "      <td>-1.424142</td>\n",
       "      <td>1.268514</td>\n",
       "      <td>-0.057937</td>\n",
       "      <td>-1.135968</td>\n",
       "      <td>...</td>\n",
       "      <td>0.706640</td>\n",
       "      <td>-0.844103</td>\n",
       "      <td>-0.351968</td>\n",
       "      <td>-0.772152</td>\n",
       "      <td>-0.228363</td>\n",
       "      <td>-0.302138</td>\n",
       "      <td>0.197502</td>\n",
       "      <td>0.420490</td>\n",
       "      <td>-0.695496</td>\n",
       "      <td>-0.676306</td>\n",
       "    </tr>\n",
       "    <tr>\n",
       "      <th>3</th>\n",
       "      <td>-0.191024</td>\n",
       "      <td>-1.251261</td>\n",
       "      <td>-1.584655</td>\n",
       "      <td>-0.606666</td>\n",
       "      <td>-0.272427</td>\n",
       "      <td>0.092744</td>\n",
       "      <td>1.056701</td>\n",
       "      <td>0.742153</td>\n",
       "      <td>-0.355895</td>\n",
       "      <td>1.272126</td>\n",
       "      <td>...</td>\n",
       "      <td>1.314776</td>\n",
       "      <td>-1.497587</td>\n",
       "      <td>-0.351968</td>\n",
       "      <td>-0.772152</td>\n",
       "      <td>-1.249589</td>\n",
       "      <td>-0.302138</td>\n",
       "      <td>-0.677473</td>\n",
       "      <td>-0.670032</td>\n",
       "      <td>0.524931</td>\n",
       "      <td>-0.676306</td>\n",
       "    </tr>\n",
       "    <tr>\n",
       "      <th>4</th>\n",
       "      <td>-0.085951</td>\n",
       "      <td>-1.251240</td>\n",
       "      <td>-0.421336</td>\n",
       "      <td>-0.606666</td>\n",
       "      <td>-0.272427</td>\n",
       "      <td>0.092744</td>\n",
       "      <td>-0.045896</td>\n",
       "      <td>1.268514</td>\n",
       "      <td>-0.765587</td>\n",
       "      <td>1.272126</td>\n",
       "      <td>...</td>\n",
       "      <td>-1.117768</td>\n",
       "      <td>-0.697297</td>\n",
       "      <td>-0.351968</td>\n",
       "      <td>0.171901</td>\n",
       "      <td>0.588618</td>\n",
       "      <td>-0.302138</td>\n",
       "      <td>-0.630572</td>\n",
       "      <td>-1.293188</td>\n",
       "      <td>1.309491</td>\n",
       "      <td>-0.676306</td>\n",
       "    </tr>\n",
       "  </tbody>\n",
       "</table>\n",
       "<p>5 rows × 22 columns</p>\n",
       "</div>"
      ],
      "text/plain": [
       "   interest_rate  unique_id_loan  loan_amount_requested  number_payments  \\\n",
       "0      -0.469694       -1.251578               1.299407        -0.606666   \n",
       "1      -0.739227       -1.251451              -0.881816        -0.606666   \n",
       "2       0.695238       -1.251271               1.299407        -0.606666   \n",
       "3      -0.191024       -1.251261              -1.584655        -0.606666   \n",
       "4      -0.085951       -1.251240              -0.421336        -0.606666   \n",
       "\n",
       "   loan_grade  employer/job_title  years_employed  home_owenrship_status  \\\n",
       "0   -0.721423            0.092744       -1.699791               1.268514   \n",
       "1   -0.721423            0.092744       -1.699791               1.268514   \n",
       "2    0.176570            0.092744       -1.424142               1.268514   \n",
       "3   -0.272427            0.092744        1.056701               0.742153   \n",
       "4   -0.272427            0.092744       -0.045896               1.268514   \n",
       "\n",
       "   annual_income_borrower  income_verification  ...  state_borrower  \\\n",
       "0                0.221398            -1.135968  ...       -1.252910   \n",
       "1               -0.151049             1.272126  ...        0.706640   \n",
       "2               -0.057937            -1.135968  ...        0.706640   \n",
       "3               -0.355895             1.272126  ...        1.314776   \n",
       "4               -0.765587             1.272126  ...       -1.117768   \n",
       "\n",
       "   debt_to_income  30+_pastdue_times  num_inqueries_creditor  \\\n",
       "0        0.322553          -0.351968               -0.772152   \n",
       "1       -0.351717          -0.351968               -0.772152   \n",
       "2       -0.844103          -0.351968               -0.772152   \n",
       "3       -1.497587          -0.351968               -0.772152   \n",
       "4       -0.697297          -0.351968                0.171901   \n",
       "\n",
       "   num_open_credit_lines  num_derogatory_records  credit_revolving_balance  \\\n",
       "0              -0.228363               -0.302138                  0.651635   \n",
       "1              -0.841098               -0.302138                  0.892918   \n",
       "2              -0.228363               -0.302138                  0.197502   \n",
       "3              -1.249589               -0.302138                 -0.677473   \n",
       "4               0.588618               -0.302138                 -0.630572   \n",
       "\n",
       "   revolving_line_utilization_rate  total_credit_lines  initial_loan_status  \n",
       "0                        -0.177402            1.483838            -0.676306  \n",
       "1                         0.858384           -1.567229            -0.676306  \n",
       "2                         0.420490           -0.695496            -0.676306  \n",
       "3                        -0.670032            0.524931            -0.676306  \n",
       "4                        -1.293188            1.309491            -0.676306  \n",
       "\n",
       "[5 rows x 22 columns]"
      ]
     },
     "execution_count": 71,
     "metadata": {},
     "output_type": "execute_result"
    }
   ],
   "source": [
    "# standerdize data\n",
    "scaler = StandardScaler()\n",
    "loan_train_sd = scaler.fit_transform(loan_train)\n",
    "loan_train_sd = pd.DataFrame(data = loan_train_sd, columns=loan_train.columns)\n",
    "loan_train_sd.head()"
   ]
  },
  {
   "cell_type": "code",
   "execution_count": 72,
   "id": "1ac4e763",
   "metadata": {},
   "outputs": [],
   "source": [
    "# Split standerdized data into two datasets, one with predictors, one with response\n",
    "X, y = loan_train_sd.drop(['interest_rate'], axis = 1), loan_train_sd['interest_rate']"
   ]
  },
  {
   "cell_type": "code",
   "execution_count": 73,
   "id": "25bcdfc0",
   "metadata": {},
   "outputs": [],
   "source": [
    "# Split non-standerdized data into two datasets, one with predictors, one with response\n",
    "X_n, y_n = loan_train.drop(['interest_rate'], axis = 1), loan_train['interest_rate'] "
   ]
  },
  {
   "cell_type": "markdown",
   "id": "2f8452b1",
   "metadata": {},
   "source": [
    "### Linear Regression"
   ]
  },
  {
   "cell_type": "code",
   "execution_count": 74,
   "id": "9902d6e5",
   "metadata": {},
   "outputs": [],
   "source": [
    "# cross-validation\n",
    "cv = KFold(n_splits=10, random_state=1, shuffle=True)\n",
    "\n",
    "#build multiple linear regression model\n",
    "model1 = LinearRegression()\n",
    "\n",
    "#use k-fold CV to evaluate model\n",
    "linear_scores = cross_val_score(model1, X, y, scoring='neg_mean_squared_error',\n",
    "                         cv=cv, n_jobs=-1)"
   ]
  },
  {
   "cell_type": "code",
   "execution_count": 75,
   "id": "40436176",
   "metadata": {},
   "outputs": [
    {
     "data": {
      "text/plain": [
       "0.6916"
      ]
     },
     "execution_count": 75,
     "metadata": {},
     "output_type": "execute_result"
    }
   ],
   "source": [
    "# mean RMSE\n",
    "round(np.sqrt(np.mean(np.absolute(linear_scores))), 4)"
   ]
  },
  {
   "cell_type": "markdown",
   "id": "986e9c29",
   "metadata": {},
   "source": [
    "### Decision Tree"
   ]
  },
  {
   "cell_type": "code",
   "execution_count": 76,
   "id": "2c545f25",
   "metadata": {},
   "outputs": [],
   "source": [
    "# build decision tree model \n",
    "model2 = DecisionTreeRegressor(random_state=0, criterion=\"squared_error\")\n",
    "model2_fit = model2.fit(X_n, y_n)\n",
    "\n",
    "model2_scores = cross_val_score(model2_fit, X_n, y_n, scoring = \"neg_mean_squared_error\",cv = cv, n_jobs = -1)"
   ]
  },
  {
   "cell_type": "code",
   "execution_count": 77,
   "id": "722c922d",
   "metadata": {},
   "outputs": [
    {
     "data": {
      "text/plain": [
       "0.0203"
      ]
     },
     "execution_count": 77,
     "metadata": {},
     "output_type": "execute_result"
    }
   ],
   "source": [
    "# mean RMSE with cv\n",
    "round(np.sqrt(np.mean(np.absolute(model2_scores))),4)"
   ]
  },
  {
   "cell_type": "markdown",
   "id": "9a6f124c",
   "metadata": {},
   "source": [
    "### Random Forest"
   ]
  },
  {
   "cell_type": "code",
   "execution_count": 78,
   "id": "51d73a8c",
   "metadata": {},
   "outputs": [],
   "source": [
    "# build random forest model \n",
    "model3 = RandomForestRegressor()\n",
    "random_scores = cross_val_score(model3, X_n, y_n, scoring='neg_mean_squared_error', cv=cv, n_jobs=-1, error_score='raise')"
   ]
  },
  {
   "cell_type": "code",
   "execution_count": 79,
   "id": "8b8478b7",
   "metadata": {},
   "outputs": [
    {
     "data": {
      "text/plain": [
       "0.0141"
      ]
     },
     "execution_count": 79,
     "metadata": {},
     "output_type": "execute_result"
    }
   ],
   "source": [
    "# mean RMSE with cv\n",
    "round(np.sqrt(np.mean(np.absolute(random_scores))),4)"
   ]
  },
  {
   "cell_type": "markdown",
   "id": "34e19c71",
   "metadata": {},
   "source": [
    "### Lasso Regression"
   ]
  },
  {
   "cell_type": "code",
   "execution_count": 80,
   "id": "f48048b7",
   "metadata": {},
   "outputs": [],
   "source": [
    "# build lasso regression model \n",
    "model4 = Lasso(alpha=1.0)\n",
    "lasso_scores = cross_val_score(model4, X, y, scoring='neg_mean_squared_error', cv=cv, n_jobs=-1)"
   ]
  },
  {
   "cell_type": "code",
   "execution_count": 81,
   "id": "2012aa3b",
   "metadata": {},
   "outputs": [
    {
     "data": {
      "text/plain": [
       "1.0"
      ]
     },
     "execution_count": 81,
     "metadata": {},
     "output_type": "execute_result"
    }
   ],
   "source": [
    "# mean RMSE with cv\n",
    "round(np.sqrt(np.mean(np.absolute(lasso_scores))),4)"
   ]
  },
  {
   "cell_type": "markdown",
   "id": "769c21a7",
   "metadata": {},
   "source": [
    "### Ridge Regression"
   ]
  },
  {
   "cell_type": "code",
   "execution_count": 82,
   "id": "969d372c",
   "metadata": {},
   "outputs": [],
   "source": [
    "# build ridge regression model \n",
    "model5 = Ridge(alpha=1.0)\n",
    "ridge_scores = cross_val_score(model5, X, y, scoring='neg_mean_squared_error', cv=cv, n_jobs=-1)"
   ]
  },
  {
   "cell_type": "code",
   "execution_count": 83,
   "id": "eb848221",
   "metadata": {},
   "outputs": [
    {
     "data": {
      "text/plain": [
       "0.6916"
      ]
     },
     "execution_count": 83,
     "metadata": {},
     "output_type": "execute_result"
    }
   ],
   "source": [
    "# mean RMSE with cv\n",
    "round(np.sqrt(np.mean(np.absolute(ridge_scores))),4)"
   ]
  },
  {
   "cell_type": "markdown",
   "id": "03003ee5",
   "metadata": {},
   "source": [
    "#### I run three linear models: multiple linear regression, lasso regression, and ridge regression and two nonlinear models: deicsion tree and random forest. In general, onlinear models perform better, as both decsion tree and random forest have relative lower RMSE values. Random forest performs better than decsion tree, which totally makes sense because random forest consists of many decision trees. So, I will apply random forest model to predict interest rate."
   ]
  },
  {
   "cell_type": "markdown",
   "id": "bfd7a036",
   "metadata": {},
   "source": [
    "## Test Models "
   ]
  },
  {
   "cell_type": "code",
   "execution_count": 84,
   "id": "5b7b97ff",
   "metadata": {},
   "outputs": [
    {
     "data": {
      "text/plain": [
       "(80000,)"
      ]
     },
     "execution_count": 84,
     "metadata": {},
     "output_type": "execute_result"
    }
   ],
   "source": [
    "# Apply random forest\n",
    "#fit train\n",
    "pred = model3.fit(X_n, y_n)\n",
    "\n",
    "# test\n",
    "pred= model3.predict(loan_test)\n",
    "pred.shape"
   ]
  },
  {
   "cell_type": "code",
   "execution_count": 85,
   "id": "49fbc16a",
   "metadata": {},
   "outputs": [],
   "source": [
    "# convert to pandas data frame \n",
    "pred = pd.DataFrame(pred)\n",
    "# rename column name\n",
    "pred.columns = [\"X1: predicted_interest_rate\"]"
   ]
  },
  {
   "cell_type": "code",
   "execution_count": 86,
   "id": "d7289679",
   "metadata": {},
   "outputs": [
    {
     "data": {
      "text/html": [
       "<div>\n",
       "<style scoped>\n",
       "    .dataframe tbody tr th:only-of-type {\n",
       "        vertical-align: middle;\n",
       "    }\n",
       "\n",
       "    .dataframe tbody tr th {\n",
       "        vertical-align: top;\n",
       "    }\n",
       "\n",
       "    .dataframe thead th {\n",
       "        text-align: right;\n",
       "    }\n",
       "</style>\n",
       "<table border=\"1\" class=\"dataframe\">\n",
       "  <thead>\n",
       "    <tr style=\"text-align: right;\">\n",
       "      <th></th>\n",
       "      <th>X1: predicted_interest_rate</th>\n",
       "    </tr>\n",
       "  </thead>\n",
       "  <tbody>\n",
       "    <tr>\n",
       "      <th>0</th>\n",
       "      <td>0.138817</td>\n",
       "    </tr>\n",
       "    <tr>\n",
       "      <th>1</th>\n",
       "      <td>0.069602</td>\n",
       "    </tr>\n",
       "    <tr>\n",
       "      <th>2</th>\n",
       "      <td>0.138678</td>\n",
       "    </tr>\n",
       "    <tr>\n",
       "      <th>3</th>\n",
       "      <td>0.169022</td>\n",
       "    </tr>\n",
       "    <tr>\n",
       "      <th>4</th>\n",
       "      <td>0.110581</td>\n",
       "    </tr>\n",
       "  </tbody>\n",
       "</table>\n",
       "</div>"
      ],
      "text/plain": [
       "   X1: predicted_interest_rate\n",
       "0                     0.138817\n",
       "1                     0.069602\n",
       "2                     0.138678\n",
       "3                     0.169022\n",
       "4                     0.110581"
      ]
     },
     "execution_count": 86,
     "metadata": {},
     "output_type": "execute_result"
    }
   ],
   "source": [
    "pred.head()"
   ]
  },
  {
   "cell_type": "code",
   "execution_count": 87,
   "id": "174300f4",
   "metadata": {},
   "outputs": [],
   "source": [
    "# export to csv \n",
    "pred.to_csv(\"Results_from_NaiboHu.csv\", sep='\\t', encoding='utf-8',index=False)"
   ]
  },
  {
   "cell_type": "markdown",
   "id": "4d3c21b4",
   "metadata": {},
   "source": [
    "## Write-Up"
   ]
  },
  {
   "cell_type": "markdown",
   "id": "d9c831ae",
   "metadata": {},
   "source": [
    "I used multiple linear regression,lasso regression,ridge regression, decision tree, and random forests to train the model, and random forest performs the best as it has the lowest RMSE. The major benefit of Lasso and ridge regression is that they involve regularization technique to reduce the issue of overfitting and collinearity that linear regressions usually have. Also, lasso and ridge regression are more suitable for prediction than for inference. However, the drawback of ridge and lasso regression is that it becomes difficult to interpret the coefficients in the final model since they get shrunk towards zero. I use decision tree because it requires less data cleaning and can work with both numerical and categorical features. In addition,as a non-parametric model, decision tree makes no assumption about the shape of data. However, decision tree tends to have overfitting issue.  Finally, random forest has low risk of overfitting and works well on non-linear data. However, random forest is usually slow in training model and is not suitable for linear methods."
   ]
  }
 ],
 "metadata": {
  "kernelspec": {
   "display_name": "Python 3",
   "language": "python",
   "name": "python3"
  },
  "language_info": {
   "codemirror_mode": {
    "name": "ipython",
    "version": 3
   },
   "file_extension": ".py",
   "mimetype": "text/x-python",
   "name": "python",
   "nbconvert_exporter": "python",
   "pygments_lexer": "ipython3",
   "version": "3.8.8"
  }
 },
 "nbformat": 4,
 "nbformat_minor": 5
}
